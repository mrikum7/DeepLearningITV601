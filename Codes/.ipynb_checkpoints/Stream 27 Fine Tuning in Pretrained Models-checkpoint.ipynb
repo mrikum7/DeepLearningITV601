{
 "cells": [
  {
   "cell_type": "code",
   "execution_count": 1,
   "id": "continuing-charger",
   "metadata": {},
   "outputs": [],
   "source": [
    "import tensorflow as tf\n",
    "from tensorflow import keras\n",
    "import numpy as np\n",
    "import matplotlib.pyplot as plt\n",
    "from keras.preprocessing.image import ImageDataGenerator\n",
    "from keras.preprocessing.image import DirectoryIterator"
   ]
  },
  {
   "cell_type": "code",
   "execution_count": 2,
   "id": "casual-training",
   "metadata": {},
   "outputs": [],
   "source": [
    "import os\n",
    "import shutil"
   ]
  },
  {
   "cell_type": "code",
   "execution_count": 3,
   "id": "joint-british",
   "metadata": {},
   "outputs": [
    {
     "name": "stdout",
     "output_type": "stream",
     "text": [
      "/home/mwpl/DeepLearningITV601/Datasets/CatvsDog/train/train\n"
     ]
    }
   ],
   "source": [
    "cd ../Datasets/CatvsDog/train/train"
   ]
  },
  {
   "cell_type": "code",
   "execution_count": 4,
   "id": "personal-victor",
   "metadata": {},
   "outputs": [
    {
     "name": "stdout",
     "output_type": "stream",
     "text": [
      "/home/mwpl/DeepLearningITV601/Datasets/CatvsDog/train\n"
     ]
    }
   ],
   "source": [
    "cd .."
   ]
  },
  {
   "cell_type": "code",
   "execution_count": 9,
   "id": "julian-abraham",
   "metadata": {},
   "outputs": [],
   "source": [
    "mkdir dogs cats"
   ]
  },
  {
   "cell_type": "markdown",
   "id": "cultural-present",
   "metadata": {},
   "source": [
    "# Segragation of Files Cats and Dogs"
   ]
  },
  {
   "cell_type": "code",
   "execution_count": 10,
   "id": "sporting-series",
   "metadata": {},
   "outputs": [],
   "source": [
    "for file in os.listdir():\n",
    "    if file.startswith('dog'):\n",
    "        shutil.move(file, './dogs/')\n",
    "    elif file.startswith('cat'):\n",
    "        shutil.move(file, './cats/')"
   ]
  },
  {
   "cell_type": "markdown",
   "id": "binary-slovakia",
   "metadata": {},
   "source": [
    "# Build Dataset"
   ]
  },
  {
   "cell_type": "code",
   "execution_count": 30,
   "id": "referenced-samuel",
   "metadata": {},
   "outputs": [
    {
     "name": "stdout",
     "output_type": "stream",
     "text": [
      "/home/mwpl/DeepLearningITV601/Datasets/CatvsDog/train\r\n"
     ]
    }
   ],
   "source": [
    "!pwd"
   ]
  },
  {
   "cell_type": "code",
   "execution_count": 26,
   "id": "destroyed-label",
   "metadata": {},
   "outputs": [],
   "source": [
    "mkdir ../train_dogs ../train_cats"
   ]
  },
  {
   "cell_type": "code",
   "execution_count": null,
   "id": "departmental-blocking",
   "metadata": {},
   "outputs": [],
   "source": []
  },
  {
   "cell_type": "code",
   "execution_count": 26,
   "id": "cloudy-pharmaceutical",
   "metadata": {},
   "outputs": [],
   "source": [
    "## For Dogs\n",
    "for i, val in enumerate(os.listdir('dogs/')):\n",
    "    if i < 1000:\n",
    "        shutil.move('dogs/' + val, 'train/train_dogs/')"
   ]
  },
  {
   "cell_type": "code",
   "execution_count": 27,
   "id": "convenient-content",
   "metadata": {},
   "outputs": [],
   "source": [
    "## For Cats\n",
    "for i, val in enumerate(os.listdir('cats/')):\n",
    "    if i < 1000:\n",
    "        shutil.move('cats/' + val, 'train/train_cats/')"
   ]
  },
  {
   "cell_type": "code",
   "execution_count": 34,
   "id": "multiple-jacket",
   "metadata": {},
   "outputs": [],
   "source": [
    "mkdir train"
   ]
  },
  {
   "cell_type": "code",
   "execution_count": 35,
   "id": "upset-video",
   "metadata": {},
   "outputs": [],
   "source": [
    "mv train_cats train/"
   ]
  },
  {
   "cell_type": "code",
   "execution_count": 36,
   "id": "appointed-benefit",
   "metadata": {},
   "outputs": [],
   "source": [
    "mv train_dogs train/"
   ]
  },
  {
   "cell_type": "code",
   "execution_count": null,
   "id": "immediate-report",
   "metadata": {},
   "outputs": [],
   "source": []
  },
  {
   "cell_type": "markdown",
   "id": "magnetic-hudson",
   "metadata": {},
   "source": [
    "# Without Data Augmentation"
   ]
  },
  {
   "cell_type": "code",
   "execution_count": 39,
   "id": "designed-bible",
   "metadata": {},
   "outputs": [
    {
     "name": "stdout",
     "output_type": "stream",
     "text": [
      "cats  dogs  train\r\n"
     ]
    }
   ],
   "source": [
    "!dir"
   ]
  },
  {
   "cell_type": "code",
   "execution_count": 28,
   "id": "weird-utilization",
   "metadata": {},
   "outputs": [
    {
     "name": "stdout",
     "output_type": "stream",
     "text": [
      "Found 4000 images belonging to 2 classes.\n"
     ]
    }
   ],
   "source": [
    "datagen = ImageDataGenerator(rescale = 1./255)\n",
    "\n",
    "train = DirectoryIterator('train', image_data_generator = datagen,\n",
    "                          target_size = (64, 64), class_mode = 'binary',\n",
    "                          batch_size = 20)"
   ]
  },
  {
   "cell_type": "code",
   "execution_count": 33,
   "id": "intensive-riding",
   "metadata": {},
   "outputs": [],
   "source": [
    "## model1 is for accuracy without data augmentation\n",
    "model1 = keras.Sequential()\n",
    "\n",
    "model1.add(keras.layers.Conv2D(64, (3, 3), activation = 'relu', input_shape = (64, 64, 3)))\n",
    "model1.add(keras.layers.Conv2D(64, (3, 3), activation = 'relu'))\n",
    "model1.add(keras.layers.MaxPooling2D((2, 2)))\n",
    "model1.add(keras.layers.Conv2D(128, (3, 3), activation = 'relu'))\n",
    "model1.add(keras.layers.MaxPooling2D((2, 2)))\n",
    "model1.add(keras.layers.Conv2D(128, (3, 3), activation = 'relu'))\n",
    "model1.add(keras.layers.MaxPooling2D((2, 2)))\n",
    "#model1.add(keras.layers.Conv2D(128, (3, 3), activation = 'relu'))\n",
    "#model1.add(keras.layers.MaxPooling2D((2, 2)))\n",
    "model1.add(keras.layers.Flatten())\n",
    "model1.add(keras.layers.Dense(256, activation = 'relu'))\n",
    "model1.add(keras.layers.Dense(256, activation = 'relu'))\n",
    "\n",
    "model1.add(keras.layers.Dense(1, activation = 'sigmoid'))"
   ]
  },
  {
   "cell_type": "code",
   "execution_count": 34,
   "id": "fleet-blink",
   "metadata": {},
   "outputs": [],
   "source": [
    "model1.compile(optimizer = keras.optimizers.RMSprop(learning_rate = 0.0001),\n",
    "               loss = 'binary_crossentropy',\n",
    "               metrics = ['accuracy'])"
   ]
  },
  {
   "cell_type": "code",
   "execution_count": 35,
   "id": "secondary-nebraska",
   "metadata": {},
   "outputs": [
    {
     "name": "stdout",
     "output_type": "stream",
     "text": [
      "Epoch 1/10\n",
      "100/100 [==============================] - 5s 48ms/step - loss: 0.6943 - accuracy: 0.5080\n",
      "Epoch 2/10\n",
      "100/100 [==============================] - 5s 49ms/step - loss: 0.6915 - accuracy: 0.5235\n",
      "Epoch 3/10\n",
      "100/100 [==============================] - 5s 49ms/step - loss: 0.6815 - accuracy: 0.5650\n",
      "Epoch 4/10\n",
      "100/100 [==============================] - 5s 49ms/step - loss: 0.6595 - accuracy: 0.6020\n",
      "Epoch 5/10\n",
      "100/100 [==============================] - 5s 50ms/step - loss: 0.6470 - accuracy: 0.6095\n",
      "Epoch 6/10\n",
      "100/100 [==============================] - 5s 48ms/step - loss: 0.6402 - accuracy: 0.6290\n",
      "Epoch 7/10\n",
      "100/100 [==============================] - 5s 50ms/step - loss: 0.6286 - accuracy: 0.6395\n",
      "Epoch 8/10\n",
      "100/100 [==============================] - 5s 49ms/step - loss: 0.6239 - accuracy: 0.6395\n",
      "Epoch 9/10\n",
      "100/100 [==============================] - 5s 49ms/step - loss: 0.6119 - accuracy: 0.6610\n",
      "Epoch 10/10\n",
      "100/100 [==============================] - 5s 50ms/step - loss: 0.6134 - accuracy: 0.6655\n"
     ]
    },
    {
     "data": {
      "text/plain": [
       "<tensorflow.python.keras.callbacks.History at 0x7f26046f9250>"
      ]
     },
     "execution_count": 35,
     "metadata": {},
     "output_type": "execute_result"
    }
   ],
   "source": [
    "model1.fit_generator(train, steps_per_epoch = 100, epochs = 10)"
   ]
  },
  {
   "cell_type": "code",
   "execution_count": 42,
   "id": "innocent-strike",
   "metadata": {},
   "outputs": [
    {
     "data": {
      "text/plain": [
       "100.0"
      ]
     },
     "execution_count": 42,
     "metadata": {},
     "output_type": "execute_result"
    }
   ],
   "source": [
    "## 2000/20"
   ]
  },
  {
   "cell_type": "markdown",
   "id": "swedish-manhattan",
   "metadata": {},
   "source": [
    "# With Augmentation"
   ]
  },
  {
   "cell_type": "code",
   "execution_count": 41,
   "id": "about-junction",
   "metadata": {},
   "outputs": [
    {
     "name": "stdout",
     "output_type": "stream",
     "text": [
      "Found 4000 images belonging to 2 classes.\n"
     ]
    }
   ],
   "source": [
    "datagen = ImageDataGenerator(rescale = 1./255,\n",
    "                             fill_mode='nearest',\n",
    "                             #rotation_range = 20,\n",
    "                             width_shift_range = 0.2,\n",
    "                             height_shift_range = 0.2,\n",
    "                             horizontal_flip = True)\n",
    "\n",
    "train = DirectoryIterator('train', image_data_generator = datagen,\n",
    "                          target_size = (64, 64), class_mode = 'binary',\n",
    "                          batch_size = 20)"
   ]
  },
  {
   "cell_type": "code",
   "execution_count": 42,
   "id": "brilliant-argument",
   "metadata": {},
   "outputs": [],
   "source": [
    "## model1 is for accuracy without data augmentation\n",
    "model2 = keras.Sequential()\n",
    "\n",
    "model2.add(keras.layers.Conv2D(64, (3, 3), activation = 'relu', input_shape = (64, 64, 3)))\n",
    "model2.add(keras.layers.Conv2D(64, (3, 3), activation = 'relu'))\n",
    "model2.add(keras.layers.MaxPooling2D((2, 2)))\n",
    "model2.add(keras.layers.Conv2D(128, (3, 3), activation = 'relu'))\n",
    "model2.add(keras.layers.MaxPooling2D((2, 2)))\n",
    "model2.add(keras.layers.Conv2D(128, (3, 3), activation = 'relu'))\n",
    "model2.add(keras.layers.MaxPooling2D((2, 2)))\n",
    "#model1.add(keras.layers.Conv2D(128, (3, 3), activation = 'relu'))\n",
    "#model1.add(keras.layers.MaxPooling2D((2, 2)))\n",
    "model2.add(keras.layers.Flatten())\n",
    "model2.add(keras.layers.Dense(256, activation = 'relu'))\n",
    "model2.add(keras.layers.Dense(256, activation = 'relu'))\n",
    "\n",
    "model2.add(keras.layers.Dense(1, activation = 'sigmoid'))"
   ]
  },
  {
   "cell_type": "code",
   "execution_count": 44,
   "id": "thorough-ranking",
   "metadata": {},
   "outputs": [],
   "source": [
    "model2.compile(optimizer = keras.optimizers.RMSprop(learning_rate = 0.0001),\n",
    "               loss = 'binary_crossentropy',\n",
    "               metrics = ['accuracy'])"
   ]
  },
  {
   "cell_type": "code",
   "execution_count": 45,
   "id": "canadian-basin",
   "metadata": {},
   "outputs": [
    {
     "name": "stdout",
     "output_type": "stream",
     "text": [
      "Epoch 1/10\n",
      "100/100 [==============================] - 5s 49ms/step - loss: 0.6935 - accuracy: 0.5080\n",
      "Epoch 2/10\n",
      "100/100 [==============================] - 5s 49ms/step - loss: 0.6866 - accuracy: 0.5510\n",
      "Epoch 3/10\n",
      "100/100 [==============================] - 5s 49ms/step - loss: 0.6753 - accuracy: 0.5855\n",
      "Epoch 4/10\n",
      "100/100 [==============================] - 5s 49ms/step - loss: 0.6635 - accuracy: 0.5965\n",
      "Epoch 5/10\n",
      "100/100 [==============================] - 5s 48ms/step - loss: 0.6478 - accuracy: 0.6220\n",
      "Epoch 6/10\n",
      "100/100 [==============================] - 5s 49ms/step - loss: 0.6412 - accuracy: 0.6250\n",
      "Epoch 7/10\n",
      "100/100 [==============================] - 5s 50ms/step - loss: 0.6441 - accuracy: 0.6165\n",
      "Epoch 8/10\n",
      "100/100 [==============================] - 5s 50ms/step - loss: 0.6227 - accuracy: 0.6500\n",
      "Epoch 9/10\n",
      "100/100 [==============================] - 5s 49ms/step - loss: 0.6184 - accuracy: 0.6490\n",
      "Epoch 10/10\n",
      "100/100 [==============================] - 5s 49ms/step - loss: 0.6125 - accuracy: 0.6585\n"
     ]
    },
    {
     "data": {
      "text/plain": [
       "<tensorflow.python.keras.callbacks.History at 0x7f26046546a0>"
      ]
     },
     "execution_count": 45,
     "metadata": {},
     "output_type": "execute_result"
    }
   ],
   "source": [
    "model2.fit_generator(train, steps_per_epoch = 100, epochs = 10)"
   ]
  },
  {
   "cell_type": "code",
   "execution_count": null,
   "id": "collected-territory",
   "metadata": {},
   "outputs": [],
   "source": []
  }
 ],
 "metadata": {
  "kernelspec": {
   "display_name": "Python 3",
   "language": "python",
   "name": "python3"
  },
  "language_info": {
   "codemirror_mode": {
    "name": "ipython",
    "version": 3
   },
   "file_extension": ".py",
   "mimetype": "text/x-python",
   "name": "python",
   "nbconvert_exporter": "python",
   "pygments_lexer": "ipython3",
   "version": "3.8.5"
  }
 },
 "nbformat": 4,
 "nbformat_minor": 5
}
