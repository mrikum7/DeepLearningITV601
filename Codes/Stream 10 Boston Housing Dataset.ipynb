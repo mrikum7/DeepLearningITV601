{
 "cells": [
  {
   "cell_type": "code",
   "execution_count": 1,
   "metadata": {},
   "outputs": [
    {
     "name": "stderr",
     "output_type": "stream",
     "text": [
      "Using TensorFlow backend.\n"
     ]
    }
   ],
   "source": [
    "import tensorflow as tf\n",
    "from tensorflow import keras\n",
    "from keras.datasets import boston_housing"
   ]
  },
  {
   "cell_type": "code",
   "execution_count": 10,
   "metadata": {},
   "outputs": [
    {
     "data": {
      "text/plain": [
       "array([  1.23247,   0.     ,   8.14   ,   0.     ,   0.538  ,   6.142  ,\n",
       "        91.7    ,   3.9769 ,   4.     , 307.     ,  21.     , 396.9    ,\n",
       "        18.72   ])"
      ]
     },
     "execution_count": 10,
     "metadata": {},
     "output_type": "execute_result"
    }
   ],
   "source": [
    "x_train[0]"
   ]
  },
  {
   "cell_type": "markdown",
   "metadata": {},
   "source": [
    "## After Normalizing y_train"
   ]
  },
  {
   "cell_type": "code",
   "execution_count": 28,
   "metadata": {},
   "outputs": [],
   "source": [
    "_y_train = y_train/50"
   ]
  },
  {
   "cell_type": "code",
   "execution_count": 52,
   "metadata": {},
   "outputs": [],
   "source": [
    "model_y_norm = keras.Sequential()"
   ]
  },
  {
   "cell_type": "code",
   "execution_count": 53,
   "metadata": {},
   "outputs": [],
   "source": [
    "model_y_norm.add(keras.layers.Dense(64, activation = 'relu',\n",
    "                                    input_shape = (13, ) ))"
   ]
  },
  {
   "cell_type": "code",
   "execution_count": 54,
   "metadata": {},
   "outputs": [],
   "source": [
    "model_y_norm.add(keras.layers.Dense(64, activation = 'relu'))"
   ]
  },
  {
   "cell_type": "code",
   "execution_count": 55,
   "metadata": {},
   "outputs": [],
   "source": [
    "model_y_norm.add(keras.layers.Dense(1, activation = 'relu'))"
   ]
  },
  {
   "cell_type": "code",
   "execution_count": 56,
   "metadata": {},
   "outputs": [],
   "source": [
    "model_y_norm.compile(optimizer = keras.optimizers.RMSprop(lr = 0.001),\n",
    "                     loss = 'mse',\n",
    "                     metrics = ['mae'])"
   ]
  },
  {
   "cell_type": "code",
   "execution_count": 57,
   "metadata": {},
   "outputs": [
    {
     "name": "stdout",
     "output_type": "stream",
     "text": [
      "Train on 404 samples\n",
      "Epoch 1/15\n",
      "404/404 [==============================] - 4s 10ms/sample - loss: 471.0879 - mae: 6.6703\n",
      "Epoch 2/15\n",
      "404/404 [==============================] - 1s 2ms/sample - loss: 0.2687 - mae: 0.4585\n",
      "Epoch 3/15\n",
      "404/404 [==============================] - 1s 2ms/sample - loss: 0.2356 - mae: 0.4488\n",
      "Epoch 4/15\n",
      "404/404 [==============================] - 1s 3ms/sample - loss: 0.2345 - mae: 0.4479\n",
      "Epoch 5/15\n",
      "404/404 [==============================] - 1s 2ms/sample - loss: 0.2345 - mae: 0.4479\n",
      "Epoch 6/15\n",
      "404/404 [==============================] - 1s 2ms/sample - loss: 0.2345 - mae: 0.4479\n",
      "Epoch 7/15\n",
      "404/404 [==============================] - 1s 2ms/sample - loss: 0.2345 - mae: 0.4479\n",
      "Epoch 8/15\n",
      "404/404 [==============================] - 1s 2ms/sample - loss: 0.2345 - mae: 0.4479\n",
      "Epoch 9/15\n",
      "404/404 [==============================] - 1s 2ms/sample - loss: 0.2345 - mae: 0.4479\n",
      "Epoch 10/15\n",
      "404/404 [==============================] - 1s 2ms/sample - loss: 0.2345 - mae: 0.4479\n",
      "Epoch 11/15\n",
      "404/404 [==============================] - 1s 2ms/sample - loss: 0.2345 - mae: 0.4479\n",
      "Epoch 12/15\n",
      "404/404 [==============================] - 1s 2ms/sample - loss: 0.2345 - mae: 0.4479\n",
      "Epoch 13/15\n",
      "404/404 [==============================] - 1s 2ms/sample - loss: 0.2345 - mae: 0.4479\n",
      "Epoch 14/15\n",
      "404/404 [==============================] - 1s 2ms/sample - loss: 0.2345 - mae: 0.4479\n",
      "Epoch 15/15\n",
      "404/404 [==============================] - 1s 2ms/sample - loss: 0.2345 - mae: 0.4479\n"
     ]
    },
    {
     "data": {
      "text/plain": [
       "<tensorflow.python.keras.callbacks.History at 0x7fb870e43e50>"
      ]
     },
     "execution_count": 57,
     "metadata": {},
     "output_type": "execute_result"
    }
   ],
   "source": [
    "model_y_norm.fit(x_train, _y_train, epochs = 15, batch_size = 10)"
   ]
  },
  {
   "cell_type": "code",
   "execution_count": 44,
   "metadata": {},
   "outputs": [],
   "source": [
    "pred = model_y_norm.predict(x_train)"
   ]
  },
  {
   "cell_type": "code",
   "execution_count": 45,
   "metadata": {},
   "outputs": [
    {
     "data": {
      "text/plain": [
       "array([16.083221], dtype=float32)"
      ]
     },
     "execution_count": 45,
     "metadata": {},
     "output_type": "execute_result"
    }
   ],
   "source": [
    "pred[0] * 50"
   ]
  },
  {
   "cell_type": "code",
   "execution_count": 46,
   "metadata": {},
   "outputs": [
    {
     "data": {
      "text/plain": [
       "15.2"
      ]
     },
     "execution_count": 46,
     "metadata": {},
     "output_type": "execute_result"
    }
   ],
   "source": [
    "y_train[0]"
   ]
  },
  {
   "cell_type": "code",
   "execution_count": 58,
   "metadata": {},
   "outputs": [],
   "source": [
    "pred = model_y_norm.predict(x_test) * 50"
   ]
  },
  {
   "cell_type": "code",
   "execution_count": 59,
   "metadata": {},
   "outputs": [
    {
     "data": {
      "text/plain": [
       "7.2"
      ]
     },
     "execution_count": 59,
     "metadata": {},
     "output_type": "execute_result"
    }
   ],
   "source": [
    "y_test[0]"
   ]
  },
  {
   "cell_type": "code",
   "execution_count": 60,
   "metadata": {},
   "outputs": [
    {
     "data": {
      "text/plain": [
       "array([0.], dtype=float32)"
      ]
     },
     "execution_count": 60,
     "metadata": {},
     "output_type": "execute_result"
    }
   ],
   "source": [
    "pred[0]"
   ]
  },
  {
   "cell_type": "markdown",
   "metadata": {},
   "source": [
    "## Normalize input data"
   ]
  },
  {
   "cell_type": "code",
   "execution_count": 69,
   "metadata": {},
   "outputs": [],
   "source": [
    "mean = x_train.mean(axis = 0)"
   ]
  },
  {
   "cell_type": "code",
   "execution_count": 70,
   "metadata": {},
   "outputs": [],
   "source": [
    "std = x_train.std(axis = 0)"
   ]
  },
  {
   "cell_type": "code",
   "execution_count": 71,
   "metadata": {},
   "outputs": [],
   "source": [
    "x_train_norm = (x_train - mean)/ std"
   ]
  },
  {
   "cell_type": "code",
   "execution_count": 76,
   "metadata": {},
   "outputs": [],
   "source": [
    "x_test_norm = (x_test - x_test.mean())/ x_test.std(axis = 0)"
   ]
  },
  {
   "cell_type": "code",
   "execution_count": 97,
   "metadata": {},
   "outputs": [],
   "source": [
    "model_x_norm = keras.Sequential()"
   ]
  },
  {
   "cell_type": "code",
   "execution_count": 98,
   "metadata": {},
   "outputs": [],
   "source": [
    "model_x_norm.add(keras.layers.Dense(64, activation = 'relu',\n",
    "                                    input_shape = (13, )))"
   ]
  },
  {
   "cell_type": "code",
   "execution_count": 99,
   "metadata": {},
   "outputs": [],
   "source": [
    "model_x_norm.add(keras.layers.Dense(64, activation = 'relu'))"
   ]
  },
  {
   "cell_type": "code",
   "execution_count": 100,
   "metadata": {},
   "outputs": [],
   "source": [
    "model_x_norm.add(keras.layers.Dense(1))"
   ]
  },
  {
   "cell_type": "code",
   "execution_count": 101,
   "metadata": {},
   "outputs": [],
   "source": [
    "model_x_norm.compile(optimizer = 'rmsprop',\n",
    "                     loss = 'mse',\n",
    "                     metrics = ['mae'])"
   ]
  },
  {
   "cell_type": "code",
   "execution_count": 103,
   "metadata": {},
   "outputs": [
    {
     "name": "stdout",
     "output_type": "stream",
     "text": [
      "Train on 404 samples\n",
      "Epoch 1/10\n",
      "404/404 [==============================] - 1s 2ms/sample - loss: 0.0022 - mae: 0.0342\n",
      "Epoch 2/10\n",
      "404/404 [==============================] - 1s 2ms/sample - loss: 0.0022 - mae: 0.0354\n",
      "Epoch 3/10\n",
      "404/404 [==============================] - 1s 2ms/sample - loss: 0.0026 - mae: 0.0375\n",
      "Epoch 4/10\n",
      "404/404 [==============================] - 1s 2ms/sample - loss: 0.0022 - mae: 0.0343\n",
      "Epoch 5/10\n",
      "404/404 [==============================] - 1s 2ms/sample - loss: 0.0022 - mae: 0.0342\n",
      "Epoch 6/10\n",
      "404/404 [==============================] - 1s 2ms/sample - loss: 0.0022 - mae: 0.0328\n",
      "Epoch 7/10\n",
      "404/404 [==============================] - 1s 2ms/sample - loss: 0.0022 - mae: 0.0360 0s - loss: 0.0023 - mae: 0.0\n",
      "Epoch 8/10\n",
      "404/404 [==============================] - 1s 2ms/sample - loss: 0.0023 - mae: 0.0366\n",
      "Epoch 9/10\n",
      "404/404 [==============================] - 1s 2ms/sample - loss: 0.0022 - mae: 0.0346\n",
      "Epoch 10/10\n",
      "404/404 [==============================] - 1s 2ms/sample - loss: 0.0020 - mae: 0.0325TA: 0s - loss: 0.0011 - \n"
     ]
    },
    {
     "data": {
      "text/plain": [
       "<tensorflow.python.keras.callbacks.History at 0x7fb850f5bfd0>"
      ]
     },
     "execution_count": 103,
     "metadata": {},
     "output_type": "execute_result"
    }
   ],
   "source": [
    "model_x_norm.fit(x_train_norm, _y_train, epochs = 10, batch_size = 10)"
   ]
  },
  {
   "cell_type": "code",
   "execution_count": 108,
   "metadata": {},
   "outputs": [],
   "source": [
    "pred = model_x_norm.predict(x_test_norm)"
   ]
  },
  {
   "cell_type": "code",
   "execution_count": 111,
   "metadata": {},
   "outputs": [
    {
     "data": {
      "text/plain": [
       "18.8"
      ]
     },
     "execution_count": 111,
     "metadata": {},
     "output_type": "execute_result"
    }
   ],
   "source": [
    "y_test[1]"
   ]
  },
  {
   "cell_type": "code",
   "execution_count": null,
   "metadata": {},
   "outputs": [],
   "source": []
  },
  {
   "cell_type": "code",
   "execution_count": 88,
   "metadata": {},
   "outputs": [],
   "source": [
    "pred_train = model_x_norm.predict(x_train_norm)"
   ]
  },
  {
   "cell_type": "code",
   "execution_count": 95,
   "metadata": {},
   "outputs": [
    {
     "data": {
      "text/plain": [
       "array([20.592337], dtype=float32)"
      ]
     },
     "execution_count": 95,
     "metadata": {},
     "output_type": "execute_result"
    }
   ],
   "source": [
    "pred_train[3]"
   ]
  },
  {
   "cell_type": "code",
   "execution_count": 96,
   "metadata": {},
   "outputs": [
    {
     "data": {
      "text/plain": [
       "21.1"
      ]
     },
     "execution_count": 96,
     "metadata": {},
     "output_type": "execute_result"
    }
   ],
   "source": [
    "y_train[3]"
   ]
  },
  {
   "cell_type": "code",
   "execution_count": null,
   "metadata": {},
   "outputs": [],
   "source": []
  }
 ],
 "metadata": {
  "kernelspec": {
   "display_name": "Python 3",
   "language": "python",
   "name": "python3"
  },
  "language_info": {
   "codemirror_mode": {
    "name": "ipython",
    "version": 3
   },
   "file_extension": ".py",
   "mimetype": "text/x-python",
   "name": "python",
   "nbconvert_exporter": "python",
   "pygments_lexer": "ipython3",
   "version": "3.7.4"
  }
 },
 "nbformat": 4,
 "nbformat_minor": 2
}
