{
 "cells": [
  {
   "cell_type": "code",
   "execution_count": 1,
   "metadata": {},
   "outputs": [],
   "source": [
    "import tensorflow as tf\n",
    "from tensorflow import keras\n",
    "import numpy as np"
   ]
  },
  {
   "cell_type": "code",
   "execution_count": 2,
   "metadata": {},
   "outputs": [],
   "source": [
    "cs = keras.losses.CosineSimilarity()"
   ]
  },
  {
   "cell_type": "code",
   "execution_count": null,
   "metadata": {},
   "outputs": [],
   "source": [
    "cs(y_true, y_pred).numpy()"
   ]
  },
  {
   "cell_type": "code",
   "execution_count": null,
   "metadata": {},
   "outputs": [],
   "source": [
    "keras.losses.cosine_similarity"
   ]
  },
  {
   "cell_type": "markdown",
   "metadata": {},
   "source": [
    "## Mean Absolute Error"
   ]
  },
  {
   "cell_type": "code",
   "execution_count": 6,
   "metadata": {},
   "outputs": [
    {
     "data": {
      "text/plain": [
       "<bound method _EagerTensorBase.numpy of <tf.Tensor: id=24, shape=(), dtype=float32, numpy=0.275>>"
      ]
     },
     "execution_count": 6,
     "metadata": {},
     "output_type": "execute_result"
    }
   ],
   "source": [
    "keras.losses.mae([1, 1, 1, 0], [0.1, 0.9, 0.9, 0]).numpy()"
   ]
  },
  {
   "cell_type": "code",
   "execution_count": 23,
   "metadata": {},
   "outputs": [],
   "source": [
    "def MyLossFunction(y_true, y_pred):\n",
    "    return tf.abs(tf.subtract(y_true, y_pred))"
   ]
  },
  {
   "cell_type": "code",
   "execution_count": 8,
   "metadata": {},
   "outputs": [],
   "source": [
    "model = keras.Sequential()"
   ]
  },
  {
   "cell_type": "code",
   "execution_count": 9,
   "metadata": {},
   "outputs": [],
   "source": [
    "model.add(keras.layers.Dense(1, activation = 'relu',\n",
    "                             input_shape = (2, )))"
   ]
  },
  {
   "cell_type": "code",
   "execution_count": 24,
   "metadata": {},
   "outputs": [],
   "source": [
    "model.compile(optimizer = keras.optimizers.SGD(lr = 0.1),\n",
    "              loss = MyLossFunction, metrics = ['BinaryAccuracy']) "
   ]
  },
  {
   "cell_type": "code",
   "execution_count": 17,
   "metadata": {},
   "outputs": [],
   "source": [
    "X = np.asarray([[0, 0],\n",
    "                   [0, 1],\n",
    "                   [1, 0],\n",
    "                   [1, 1]])\n",
    "y = np.asarray([[0., 0., 0., 1.]]).T"
   ]
  },
  {
   "cell_type": "code",
   "execution_count": 19,
   "metadata": {},
   "outputs": [
    {
     "data": {
      "text/plain": [
       "dtype('float64')"
      ]
     },
     "execution_count": 19,
     "metadata": {},
     "output_type": "execute_result"
    }
   ],
   "source": [
    "y.dtype"
   ]
  },
  {
   "cell_type": "code",
   "execution_count": 25,
   "metadata": {},
   "outputs": [
    {
     "name": "stdout",
     "output_type": "stream",
     "text": [
      "Train on 4 samples\n",
      "Epoch 1/50\n",
      "4/4 [==============================] - 0s 108ms/sample - loss: 0.3760 - BinaryAccuracy: 0.7500\n",
      "Epoch 2/50\n",
      "4/4 [==============================] - 0s 797us/sample - loss: 0.2697 - BinaryAccuracy: 0.7500\n",
      "Epoch 3/50\n",
      "4/4 [==============================] - 0s 940us/sample - loss: 0.1937 - BinaryAccuracy: 0.7500\n",
      "Epoch 4/50\n",
      "4/4 [==============================] - 0s 1ms/sample - loss: 0.1875 - BinaryAccuracy: 0.7500\n",
      "Epoch 5/50\n",
      "4/4 [==============================] - 0s 922us/sample - loss: 0.1812 - BinaryAccuracy: 0.7500\n",
      "Epoch 6/50\n",
      "4/4 [==============================] - 0s 3ms/sample - loss: 0.1750 - BinaryAccuracy: 1.0000\n",
      "Epoch 7/50\n",
      "4/4 [==============================] - 0s 1ms/sample - loss: 0.1688 - BinaryAccuracy: 1.0000\n",
      "Epoch 8/50\n",
      "4/4 [==============================] - 0s 1ms/sample - loss: 0.1625 - BinaryAccuracy: 1.0000\n",
      "Epoch 9/50\n",
      "4/4 [==============================] - 0s 771us/sample - loss: 0.1562 - BinaryAccuracy: 1.0000\n",
      "Epoch 10/50\n",
      "4/4 [==============================] - 0s 675us/sample - loss: 0.1562 - BinaryAccuracy: 1.0000\n",
      "Epoch 11/50\n",
      "4/4 [==============================] - 0s 5ms/sample - loss: 0.1500 - BinaryAccuracy: 1.0000\n",
      "Epoch 12/50\n",
      "4/4 [==============================] - 0s 2ms/sample - loss: 0.1500 - BinaryAccuracy: 1.0000\n",
      "Epoch 13/50\n",
      "4/4 [==============================] - 0s 4ms/sample - loss: 0.1438 - BinaryAccuracy: 1.0000\n",
      "Epoch 14/50\n",
      "4/4 [==============================] - 0s 3ms/sample - loss: 0.1437 - BinaryAccuracy: 1.0000\n",
      "Epoch 15/50\n",
      "4/4 [==============================] - 0s 3ms/sample - loss: 0.1375 - BinaryAccuracy: 1.0000\n",
      "Epoch 16/50\n",
      "4/4 [==============================] - 0s 4ms/sample - loss: 0.1375 - BinaryAccuracy: 1.0000\n",
      "Epoch 17/50\n",
      "4/4 [==============================] - 0s 6ms/sample - loss: 0.1312 - BinaryAccuracy: 1.0000\n",
      "Epoch 18/50\n",
      "4/4 [==============================] - 0s 3ms/sample - loss: 0.1312 - BinaryAccuracy: 1.0000\n",
      "Epoch 19/50\n",
      "4/4 [==============================] - 0s 4ms/sample - loss: 0.1250 - BinaryAccuracy: 1.0000\n",
      "Epoch 20/50\n",
      "4/4 [==============================] - 0s 2ms/sample - loss: 0.1250 - BinaryAccuracy: 1.0000\n",
      "Epoch 21/50\n",
      "4/4 [==============================] - 0s 2ms/sample - loss: 0.1187 - BinaryAccuracy: 1.0000\n",
      "Epoch 22/50\n",
      "4/4 [==============================] - 0s 1ms/sample - loss: 0.1187 - BinaryAccuracy: 1.0000\n",
      "Epoch 23/50\n",
      "4/4 [==============================] - 0s 1ms/sample - loss: 0.1125 - BinaryAccuracy: 1.0000\n",
      "Epoch 24/50\n",
      "4/4 [==============================] - 0s 3ms/sample - loss: 0.1125 - BinaryAccuracy: 1.0000\n",
      "Epoch 25/50\n",
      "4/4 [==============================] - 0s 2ms/sample - loss: 0.1063 - BinaryAccuracy: 1.0000\n",
      "Epoch 26/50\n",
      "4/4 [==============================] - 0s 1ms/sample - loss: 0.1062 - BinaryAccuracy: 1.0000\n",
      "Epoch 27/50\n",
      "4/4 [==============================] - 0s 2ms/sample - loss: 0.1000 - BinaryAccuracy: 1.0000\n",
      "Epoch 28/50\n",
      "4/4 [==============================] - 0s 1ms/sample - loss: 0.1000 - BinaryAccuracy: 1.0000\n",
      "Epoch 29/50\n",
      "4/4 [==============================] - 0s 2ms/sample - loss: 0.0938 - BinaryAccuracy: 1.0000\n",
      "Epoch 30/50\n",
      "4/4 [==============================] - 0s 1ms/sample - loss: 0.0937 - BinaryAccuracy: 1.0000\n",
      "Epoch 31/50\n",
      "4/4 [==============================] - 0s 3ms/sample - loss: 0.0875 - BinaryAccuracy: 1.0000\n",
      "Epoch 32/50\n",
      "4/4 [==============================] - 0s 3ms/sample - loss: 0.0875 - BinaryAccuracy: 1.0000\n",
      "Epoch 33/50\n",
      "4/4 [==============================] - 0s 1ms/sample - loss: 0.0813 - BinaryAccuracy: 1.0000\n",
      "Epoch 34/50\n",
      "4/4 [==============================] - 0s 3ms/sample - loss: 0.0812 - BinaryAccuracy: 1.0000\n",
      "Epoch 35/50\n",
      "4/4 [==============================] - 0s 3ms/sample - loss: 0.0750 - BinaryAccuracy: 1.0000\n",
      "Epoch 36/50\n",
      "4/4 [==============================] - 0s 1ms/sample - loss: 0.0750 - BinaryAccuracy: 1.0000\n",
      "Epoch 37/50\n",
      "4/4 [==============================] - 0s 5ms/sample - loss: 0.0688 - BinaryAccuracy: 1.0000\n",
      "Epoch 38/50\n",
      "4/4 [==============================] - 0s 2ms/sample - loss: 0.0687 - BinaryAccuracy: 1.0000\n",
      "Epoch 39/50\n",
      "4/4 [==============================] - 0s 3ms/sample - loss: 0.0625 - BinaryAccuracy: 1.0000\n",
      "Epoch 40/50\n",
      "4/4 [==============================] - 0s 2ms/sample - loss: 0.0625 - BinaryAccuracy: 1.0000\n",
      "Epoch 41/50\n",
      "4/4 [==============================] - 0s 2ms/sample - loss: 0.0563 - BinaryAccuracy: 1.0000\n",
      "Epoch 42/50\n",
      "4/4 [==============================] - 0s 3ms/sample - loss: 0.0589 - BinaryAccuracy: 1.0000\n",
      "Epoch 43/50\n",
      "4/4 [==============================] - 0s 3ms/sample - loss: 0.0563 - BinaryAccuracy: 1.0000\n",
      "Epoch 44/50\n",
      "4/4 [==============================] - 0s 2ms/sample - loss: 0.0500 - BinaryAccuracy: 1.0000\n",
      "Epoch 45/50\n",
      "4/4 [==============================] - 0s 3ms/sample - loss: 0.0526 - BinaryAccuracy: 1.0000\n",
      "Epoch 46/50\n",
      "4/4 [==============================] - 0s 2ms/sample - loss: 0.0500 - BinaryAccuracy: 1.0000\n",
      "Epoch 47/50\n",
      "4/4 [==============================] - 0s 4ms/sample - loss: 0.0438 - BinaryAccuracy: 1.0000\n",
      "Epoch 48/50\n",
      "4/4 [==============================] - 0s 2ms/sample - loss: 0.0464 - BinaryAccuracy: 1.0000\n",
      "Epoch 49/50\n",
      "4/4 [==============================] - 0s 3ms/sample - loss: 0.0438 - BinaryAccuracy: 1.0000\n",
      "Epoch 50/50\n",
      "4/4 [==============================] - 0s 2ms/sample - loss: 0.0375 - BinaryAccuracy: 1.0000\n"
     ]
    },
    {
     "data": {
      "text/plain": [
       "<tensorflow.python.keras.callbacks.History at 0x7fdc84be5bd0>"
      ]
     },
     "execution_count": 25,
     "metadata": {},
     "output_type": "execute_result"
    }
   ],
   "source": [
    "model.fit(X, y, epochs = 50, batch_size = 4)"
   ]
  },
  {
   "cell_type": "markdown",
   "metadata": {},
   "source": [
    "## Why require a custom loss Function??"
   ]
  },
  {
   "cell_type": "code",
   "execution_count": 26,
   "metadata": {},
   "outputs": [],
   "source": [
    "## For solving specific problems"
   ]
  },
  {
   "cell_type": "code",
   "execution_count": null,
   "metadata": {},
   "outputs": [],
   "source": []
  },
  {
   "cell_type": "markdown",
   "metadata": {},
   "source": [
    "## Optimisers"
   ]
  },
  {
   "cell_type": "code",
   "execution_count": null,
   "metadata": {},
   "outputs": [],
   "source": [
    "keras.optimizers.RMSprop"
   ]
  }
 ],
 "metadata": {
  "kernelspec": {
   "display_name": "Python 3",
   "language": "python",
   "name": "python3"
  },
  "language_info": {
   "codemirror_mode": {
    "name": "ipython",
    "version": 3
   },
   "file_extension": ".py",
   "mimetype": "text/x-python",
   "name": "python",
   "nbconvert_exporter": "python",
   "pygments_lexer": "ipython3",
   "version": "3.7.4"
  }
 },
 "nbformat": 4,
 "nbformat_minor": 2
}
