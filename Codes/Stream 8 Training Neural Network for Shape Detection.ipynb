{
 "cells": [
  {
   "cell_type": "code",
   "execution_count": 1,
   "metadata": {},
   "outputs": [
    {
     "name": "stderr",
     "output_type": "stream",
     "text": [
      "Using TensorFlow backend.\n"
     ]
    }
   ],
   "source": [
    "from skimage.draw import random_shapes\n",
    "from skimage.color import rgb2gray\n",
    "import numpy as np\n",
    "import matplotlib.pyplot as plt\n",
    "\n",
    "from keras.utils import to_categorical\n",
    "import tensorflow as tf\n",
    "from tensorflow import keras\n",
    "from keras.datasets import mnist"
   ]
  },
  {
   "cell_type": "code",
   "execution_count": 2,
   "metadata": {},
   "outputs": [
    {
     "data": {
      "text/plain": [
       "True"
      ]
     },
     "execution_count": 2,
     "metadata": {},
     "output_type": "execute_result"
    }
   ],
   "source": [
    "tf.test.is_gpu_available()"
   ]
  },
  {
   "cell_type": "code",
   "execution_count": 118,
   "metadata": {},
   "outputs": [
    {
     "data": {
      "text/plain": [
       "<matplotlib.image.AxesImage at 0x7f802f5cd990>"
      ]
     },
     "execution_count": 118,
     "metadata": {},
     "output_type": "execute_result"
    },
    {
     "data": {
      "image/png": "[encoded data removed]",
      "text/plain": [
       "<Figure size 432x288 with 1 Axes>"
      ]
     },
     "metadata": {
      "needs_background": "light"
     },
     "output_type": "display_data"
    }
   ],
   "source": [
    "result = random_shapes((50, 50), \n",
    "              shape = 'rectangle',\n",
    "              max_shapes = 1,\n",
    "              min_size = 40,\n",
    "              intensity_range = ((0, 255), ))\n",
    "\n",
    "plt.imshow(rgb2gray(result[0]))"
   ]
  },
  {
   "cell_type": "code",
   "execution_count": 119,
   "metadata": {},
   "outputs": [],
   "source": [
    "rect = []\n",
    "for i in range(1000):\n",
    "    result = random_shapes((50, 50), \n",
    "              shape = 'rectangle',\n",
    "              max_shapes = 1,\n",
    "              min_size = 40,\n",
    "              intensity_range = ((0, 255), ))\n",
    "    result = rgb2gray(result[0])\n",
    "    rect.append(result)\n"
   ]
  },
  {
   "cell_type": "code",
   "execution_count": 120,
   "metadata": {},
   "outputs": [],
   "source": [
    "circle = []\n",
    "for i in range(1000):\n",
    "    result = random_shapes((50, 50), \n",
    "              shape = 'circle',\n",
    "              max_shapes = 1,\n",
    "              min_size = 40,\n",
    "              intensity_range = ((0, 255), ))\n",
    "    result = rgb2gray(result[0])\n",
    "    circle.append(result)\n"
   ]
  },
  {
   "cell_type": "code",
   "execution_count": 121,
   "metadata": {},
   "outputs": [],
   "source": [
    "triangle = []\n",
    "for i in range(1000):\n",
    "    result = random_shapes((50, 50), \n",
    "              shape = 'triangle',\n",
    "              max_shapes = 1,\n",
    "              min_size = 40,\n",
    "              intensity_range = ((0, 255), ))\n",
    "    result = rgb2gray(result[0])\n",
    "    triangle.append(result)\n"
   ]
  },
  {
   "cell_type": "code",
   "execution_count": 122,
   "metadata": {},
   "outputs": [],
   "source": [
    "t = np.asarray(triangle)\n",
    "c = np.asarray(circle)\n",
    "r = np.asarray(rect)"
   ]
  },
  {
   "cell_type": "code",
   "execution_count": 123,
   "metadata": {},
   "outputs": [
    {
     "data": {
      "text/plain": [
       "<matplotlib.image.AxesImage at 0x7f802c1de110>"
      ]
     },
     "execution_count": 123,
     "metadata": {},
     "output_type": "execute_result"
    },
    {
     "data": {
      "image/png": "[encoded data removed]",
      "text/plain": [
       "<Figure size 432x288 with 1 Axes>"
      ]
     },
     "metadata": {
      "needs_background": "light"
     },
     "output_type": "display_data"
    }
   ],
   "source": [
    "plt.imshow(t[0])"
   ]
  },
  {
   "cell_type": "code",
   "execution_count": null,
   "metadata": {},
   "outputs": [],
   "source": [
    "## 0 --> Rectangle\n",
    "## 1 --> Circle\n",
    "## 2 --> Triangle"
   ]
  },
  {
   "cell_type": "code",
   "execution_count": 42,
   "metadata": {},
   "outputs": [],
   "source": [
    "labels = []"
   ]
  },
  {
   "cell_type": "code",
   "execution_count": 45,
   "metadata": {},
   "outputs": [],
   "source": [
    "labels.extend([2 for i in range(1000)])\n"
   ]
  },
  {
   "cell_type": "code",
   "execution_count": 50,
   "metadata": {},
   "outputs": [],
   "source": [
    "y = to_categorical(labels)"
   ]
  },
  {
   "cell_type": "code",
   "execution_count": 51,
   "metadata": {},
   "outputs": [
    {
     "data": {
      "text/plain": [
       "array([[1., 0., 0.],\n",
       "       [1., 0., 0.],\n",
       "       [1., 0., 0.],\n",
       "       ...,\n",
       "       [0., 0., 1.],\n",
       "       [0., 0., 1.],\n",
       "       [0., 0., 1.]], dtype=float32)"
      ]
     },
     "execution_count": 51,
     "metadata": {},
     "output_type": "execute_result"
    }
   ],
   "source": [
    "y"
   ]
  },
  {
   "cell_type": "code",
   "execution_count": 124,
   "metadata": {},
   "outputs": [],
   "source": [
    "X = np.concatenate((r, c, t), axis = 0)"
   ]
  },
  {
   "cell_type": "code",
   "execution_count": 125,
   "metadata": {},
   "outputs": [
    {
     "data": {
      "text/plain": [
       "(3000, 50, 50)"
      ]
     },
     "execution_count": 125,
     "metadata": {},
     "output_type": "execute_result"
    }
   ],
   "source": [
    "X.shape"
   ]
  },
  {
   "cell_type": "code",
   "execution_count": 126,
   "metadata": {},
   "outputs": [],
   "source": [
    "X = X.reshape((3000, 50 * 50))"
   ]
  },
  {
   "cell_type": "code",
   "execution_count": 64,
   "metadata": {},
   "outputs": [
    {
     "data": {
      "text/plain": [
       "(3000, 2500)"
      ]
     },
     "execution_count": 64,
     "metadata": {},
     "output_type": "execute_result"
    }
   ],
   "source": []
  },
  {
   "cell_type": "code",
   "execution_count": 73,
   "metadata": {},
   "outputs": [],
   "source": [
    "model = keras.Sequential()"
   ]
  },
  {
   "cell_type": "code",
   "execution_count": 74,
   "metadata": {},
   "outputs": [],
   "source": [
    "model.add(keras.layers.Dense(500, activation = 'relu',\n",
    "                             input_shape = (2500, )))"
   ]
  },
  {
   "cell_type": "code",
   "execution_count": 76,
   "metadata": {},
   "outputs": [],
   "source": [
    "model.add(keras.layers.Dense(500, activation = 'relu'))"
   ]
  },
  {
   "cell_type": "code",
   "execution_count": 77,
   "metadata": {},
   "outputs": [],
   "source": [
    "model.add(keras.layers.Dense(3, activation = 'softmax'))"
   ]
  },
  {
   "cell_type": "code",
   "execution_count": 115,
   "metadata": {},
   "outputs": [],
   "source": [
    "model.compile(optimizer = keras.optimizers.RMSprop(lr = 0.001,\n",
    "                                                   momentum = 0.001),\n",
    "              loss = 'categorical_crossentropy', \n",
    "              metrics = ['accuracy'])"
   ]
  },
  {
   "cell_type": "code",
   "execution_count": 127,
   "metadata": {},
   "outputs": [
    {
     "name": "stdout",
     "output_type": "stream",
     "text": [
      "Train on 3000 samples\n",
      "Epoch 1/10\n",
      "3000/3000 [==============================] - 6s 2ms/sample - loss: 1.0480 - accuracy: 0.4537\n",
      "Epoch 2/10\n",
      "3000/3000 [==============================] - 6s 2ms/sample - loss: 0.6664 - accuracy: 0.7200\n",
      "Epoch 3/10\n",
      "3000/3000 [==============================] - 6s 2ms/sample - loss: 0.4182 - accuracy: 0.8567\n",
      "Epoch 4/10\n",
      "3000/3000 [==============================] - 6s 2ms/sample - loss: 0.3353 - accuracy: 0.8890\n",
      "Epoch 5/10\n",
      "3000/3000 [==============================] - 6s 2ms/sample - loss: 0.2529 - accuracy: 0.9107\n",
      "Epoch 6/10\n",
      "3000/3000 [==============================] - 7s 2ms/sample - loss: 0.2205 - accuracy: 0.9273\n",
      "Epoch 7/10\n",
      "3000/3000 [==============================] - 6s 2ms/sample - loss: 0.2061 - accuracy: 0.9333\n",
      "Epoch 8/10\n",
      "3000/3000 [==============================] - 6s 2ms/sample - loss: 0.1956 - accuracy: 0.9367\n",
      "Epoch 9/10\n",
      "3000/3000 [==============================] - 6s 2ms/sample - loss: 0.1704 - accuracy: 0.9457\n",
      "Epoch 10/10\n",
      "3000/3000 [==============================] - 7s 2ms/sample - loss: 0.1420 - accuracy: 0.95600s - l\n"
     ]
    },
    {
     "data": {
      "text/plain": [
       "<tensorflow.python.keras.callbacks.History at 0x7f802c1c0c90>"
      ]
     },
     "execution_count": 127,
     "metadata": {},
     "output_type": "execute_result"
    }
   ],
   "source": [
    "model.fit(X, y, epochs = 10, batch_size = 10)"
   ]
  },
  {
   "cell_type": "code",
   "execution_count": null,
   "metadata": {},
   "outputs": [],
   "source": [
    "keras.optimizers.RMSprop"
   ]
  },
  {
   "cell_type": "code",
   "execution_count": 128,
   "metadata": {},
   "outputs": [],
   "source": [
    "rect = []\n",
    "for i in range(100):\n",
    "    result = random_shapes((50, 50), \n",
    "              shape = 'rectangle',\n",
    "              max_shapes = 1,\n",
    "              min_size = 40,\n",
    "              intensity_range = ((0, 255), ))\n",
    "    result = rgb2gray(result[0])\n",
    "    rect.append(result)\n"
   ]
  },
  {
   "cell_type": "code",
   "execution_count": 129,
   "metadata": {},
   "outputs": [],
   "source": [
    "r = np.asarray(rect)"
   ]
  },
  {
   "cell_type": "code",
   "execution_count": 134,
   "metadata": {},
   "outputs": [],
   "source": [
    "circle = []\n",
    "for i in range(100):\n",
    "    result = random_shapes((50, 50), \n",
    "              shape = 'circle',\n",
    "              max_shapes = 1,\n",
    "              min_size = 40,\n",
    "              intensity_range = ((0, 255), ))\n",
    "    result = rgb2gray(result[0])\n",
    "    circle.append(result)\n"
   ]
  },
  {
   "cell_type": "code",
   "execution_count": 135,
   "metadata": {},
   "outputs": [],
   "source": [
    "c = np.asarray(circle)"
   ]
  },
  {
   "cell_type": "code",
   "execution_count": 137,
   "metadata": {},
   "outputs": [],
   "source": [
    "triangle = []\n",
    "for i in range(100):\n",
    "    result = random_shapes((50, 50), \n",
    "              shape = 'triangle',\n",
    "              max_shapes = 1,\n",
    "              min_size = 40,\n",
    "              intensity_range = ((0, 255), ))\n",
    "    result = rgb2gray(result[0])\n",
    "    triangle.append(result)\n"
   ]
  },
  {
   "cell_type": "code",
   "execution_count": 138,
   "metadata": {},
   "outputs": [],
   "source": [
    "t = np.asarray(triangle)"
   ]
  },
  {
   "cell_type": "code",
   "execution_count": 139,
   "metadata": {},
   "outputs": [],
   "source": [
    "X_test = np.concatenate((r, c, t), axis = 0)"
   ]
  },
  {
   "cell_type": "code",
   "execution_count": 142,
   "metadata": {},
   "outputs": [],
   "source": [
    "y_test.extend([2 for i in range(100)])"
   ]
  },
  {
   "cell_type": "code",
   "execution_count": 143,
   "metadata": {},
   "outputs": [],
   "source": [
    "y_test = to_categorical(y_test)"
   ]
  },
  {
   "cell_type": "code",
   "execution_count": 145,
   "metadata": {},
   "outputs": [],
   "source": [
    "X_test = X_test.reshape((300, 50 * 50))"
   ]
  },
  {
   "cell_type": "code",
   "execution_count": 21,
   "metadata": {},
   "outputs": [
    {
     "data": {
      "text/plain": [
       "[array([1., 1., 1., 1., 1., 1., 1., 1., 1., 1., 1., 1., 1., 1., 1., 1., 1.,\n",
       "        1., 1., 1., 1., 1., 1., 1., 1., 1., 1., 1., 1., 1., 1., 1., 1., 1.,\n",
       "        1., 1., 1., 1., 1., 1., 1., 1., 1., 1., 1., 1., 1., 1., 1., 1.]),\n",
       " array([1., 1., 1., 1., 1., 1., 1., 1., 1., 1., 1., 1., 1., 1., 1., 1., 1.,\n",
       "        1., 1., 1., 1., 1., 1., 1., 1., 1., 1., 1., 1., 1., 1., 1., 1., 1.,\n",
       "        1., 1., 1., 1., 1., 1., 1., 1., 1., 1., 1., 1., 1., 1., 1., 1.]),\n",
       " array([1., 1., 1., 1., 1., 1., 1., 1., 1., 1., 1., 1., 1., 1., 1., 1., 1.,\n",
       "        1., 1., 1., 1., 1., 1., 1., 1., 1., 1., 1., 1., 1., 1., 1., 1., 1.,\n",
       "        1., 1., 1., 1., 1., 1., 1., 1., 1., 1., 1., 1., 1., 1., 1., 1.]),\n",
       " array([1., 1., 1., 1., 1., 1., 1., 1., 1., 1., 1., 1., 1., 1., 1., 1., 1.,\n",
       "        1., 1., 1., 1., 1., 1., 1., 1., 1., 1., 1., 1., 1., 1., 1., 1., 1.,\n",
       "        1., 1., 1., 1., 1., 1., 1., 1., 1., 1., 1., 1., 1., 1., 1., 1.]),\n",
       " array([1., 1., 1., 1., 1., 1., 1., 1., 1., 1., 1., 1., 1., 1., 1., 1., 1.,\n",
       "        1., 1., 1., 1., 1., 1., 1., 1., 1., 1., 1., 1., 1., 1., 1., 1., 1.,\n",
       "        1., 1., 1., 1., 1., 1., 1., 1., 1., 1., 1., 1., 1., 1., 1., 1.]),\n",
       " array([1., 1., 1., 1., 1., 1., 1., 1., 1., 1., 1., 1., 1., 1., 1., 1., 1.,\n",
       "        1., 1., 1., 1., 1., 1., 1., 1., 1., 1., 1., 1., 1., 1., 1., 1., 1.,\n",
       "        1., 1., 1., 1., 1., 1., 1., 1., 1., 1., 1., 1., 1., 1., 1., 1.]),\n",
       " array([1., 1., 1., 1., 1., 1., 1., 1., 1., 1., 1., 1., 1., 1., 1., 1., 1.,\n",
       "        1., 1., 1., 1., 1., 1., 1., 1., 1., 1., 1., 1., 1., 1., 1., 1., 1.,\n",
       "        1., 1., 1., 1., 1., 1., 1., 1., 1., 1., 1., 1., 1., 1., 1., 1.]),\n",
       " array([1., 1., 1., 1., 1., 1., 1., 1., 1., 1., 1., 1., 1., 1., 1., 1., 1.,\n",
       "        1., 1., 1., 1., 1., 1., 1., 1., 1., 1., 1., 1., 1., 1., 1., 1., 1.,\n",
       "        1., 1., 1., 1., 1., 1., 1., 1., 1., 1., 1., 1., 1., 1., 1., 1.]),\n",
       " array([1., 1., 1., 1., 1., 1., 1., 1., 1., 1., 1., 1., 1., 1., 1., 1., 1.,\n",
       "        1., 1., 1., 1., 1., 1., 1., 1., 1., 1., 1., 1., 1., 1., 1., 1., 1.,\n",
       "        1., 1., 1., 1., 1., 1., 1., 1., 1., 1., 1., 1., 1., 1., 1., 1.]),\n",
       " array([1., 1., 1., 1., 1., 1., 1., 1., 1., 1., 1., 1., 1., 1., 1., 1., 1.,\n",
       "        1., 1., 1., 1., 1., 1., 1., 1., 1., 1., 1., 1., 1., 1., 1., 1., 1.,\n",
       "        1., 1., 1., 1., 1., 1., 1., 1., 1., 1., 1., 1., 1., 1., 1., 1.]),\n",
       " array([1., 1., 1., 1., 1., 1., 1., 1., 1., 1., 1., 1., 1., 1., 1., 1., 1.,\n",
       "        1., 1., 1., 1., 1., 1., 1., 1., 1., 1., 1., 1., 1., 1., 1., 1., 1.,\n",
       "        1., 1., 1., 1., 1., 1., 1., 1., 1., 1., 1., 1., 1., 1., 1., 1.]),\n",
       " array([1., 1., 1., 1., 1., 1., 1., 1., 1., 1., 1., 1., 1., 1., 1., 1., 1.,\n",
       "        1., 1., 1., 1., 1., 1., 1., 1., 1., 1., 1., 1., 1., 1., 1., 1., 1.,\n",
       "        1., 1., 1., 1., 1., 1., 1., 1., 1., 1., 1., 1., 1., 1., 1., 1.]),\n",
       " array([1.        , 1.        , 1.        , 1.        , 1.        ,\n",
       "        1.        , 1.        , 1.        , 1.        , 1.        ,\n",
       "        1.        , 0.70000353, 0.70000353, 0.70000353, 0.70000353,\n",
       "        0.70000353, 0.70000353, 0.70000353, 0.70000353, 0.70000353,\n",
       "        0.70000353, 0.70000353, 0.70000353, 0.70000353, 0.70000353,\n",
       "        0.70000353, 0.70000353, 0.70000353, 0.70000353, 0.70000353,\n",
       "        0.70000353, 0.70000353, 0.70000353, 0.70000353, 0.70000353,\n",
       "        0.70000353, 0.70000353, 0.70000353, 0.70000353, 0.70000353,\n",
       "        0.70000353, 0.70000353, 0.70000353, 0.70000353, 0.70000353,\n",
       "        0.70000353, 1.        , 1.        , 1.        , 1.        ]),\n",
       " array([1.        , 1.        , 1.        , 1.        , 1.        ,\n",
       "        1.        , 1.        , 1.        , 1.        , 1.        ,\n",
       "        1.        , 0.70000353, 0.70000353, 0.70000353, 0.70000353,\n",
       "        0.70000353, 0.70000353, 0.70000353, 0.70000353, 0.70000353,\n",
       "        0.70000353, 0.70000353, 0.70000353, 0.70000353, 0.70000353,\n",
       "        0.70000353, 0.70000353, 0.70000353, 0.70000353, 0.70000353,\n",
       "        0.70000353, 0.70000353, 0.70000353, 0.70000353, 0.70000353,\n",
       "        0.70000353, 0.70000353, 0.70000353, 0.70000353, 0.70000353,\n",
       "        0.70000353, 0.70000353, 0.70000353, 0.70000353, 0.70000353,\n",
       "        0.70000353, 1.        , 1.        , 1.        , 1.        ]),\n",
       " array([1.        , 1.        , 1.        , 1.        , 1.        ,\n",
       "        1.        , 1.        , 1.        , 1.        , 1.        ,\n",
       "        1.        , 0.70000353, 0.70000353, 0.70000353, 0.70000353,\n",
       "        0.70000353, 0.70000353, 0.70000353, 0.70000353, 0.70000353,\n",
       "        0.70000353, 0.70000353, 0.70000353, 0.70000353, 0.70000353,\n",
       "        0.70000353, 0.70000353, 0.70000353, 0.70000353, 0.70000353,\n",
       "        0.70000353, 0.70000353, 0.70000353, 0.70000353, 0.70000353,\n",
       "        0.70000353, 0.70000353, 0.70000353, 0.70000353, 0.70000353,\n",
       "        0.70000353, 0.70000353, 0.70000353, 0.70000353, 0.70000353,\n",
       "        0.70000353, 1.        , 1.        , 1.        , 1.        ]),\n",
       " array([1.        , 1.        , 1.        , 1.        , 1.        ,\n",
       "        1.        , 1.        , 1.        , 1.        , 1.        ,\n",
       "        1.        , 0.70000353, 0.70000353, 0.70000353, 0.70000353,\n",
       "        0.70000353, 0.70000353, 0.70000353, 0.70000353, 0.70000353,\n",
       "        0.70000353, 0.70000353, 0.70000353, 0.70000353, 0.70000353,\n",
       "        0.70000353, 0.70000353, 0.70000353, 0.70000353, 0.70000353,\n",
       "        0.70000353, 0.70000353, 0.70000353, 0.70000353, 0.70000353,\n",
       "        0.70000353, 0.70000353, 0.70000353, 0.70000353, 0.70000353,\n",
       "        0.70000353, 0.70000353, 0.70000353, 0.70000353, 0.70000353,\n",
       "        0.70000353, 1.        , 1.        , 1.        , 1.        ]),\n",
       " array([1.        , 1.        , 1.        , 1.        , 1.        ,\n",
       "        1.        , 1.        , 1.        , 1.        , 1.        ,\n",
       "        1.        , 0.70000353, 0.70000353, 0.70000353, 0.70000353,\n",
       "        0.70000353, 0.70000353, 0.70000353, 0.70000353, 0.70000353,\n",
       "        0.70000353, 0.70000353, 0.70000353, 0.70000353, 0.70000353,\n",
       "        0.70000353, 0.70000353, 0.70000353, 0.70000353, 0.70000353,\n",
       "        0.70000353, 0.70000353, 0.70000353, 0.70000353, 0.70000353,\n",
       "        0.70000353, 0.70000353, 0.70000353, 0.70000353, 0.70000353,\n",
       "        0.70000353, 0.70000353, 0.70000353, 0.70000353, 0.70000353,\n",
       "        0.70000353, 1.        , 1.        , 1.        , 1.        ]),\n",
       " array([1.        , 1.        , 1.        , 1.        , 1.        ,\n",
       "        1.        , 1.        , 1.        , 1.        , 1.        ,\n",
       "        1.        , 0.70000353, 0.70000353, 0.70000353, 0.70000353,\n",
       "        0.70000353, 0.70000353, 0.70000353, 0.70000353, 0.70000353,\n",
       "        0.70000353, 0.70000353, 0.70000353, 0.70000353, 0.70000353,\n",
       "        0.70000353, 0.70000353, 0.70000353, 0.70000353, 0.70000353,\n",
       "        0.70000353, 0.70000353, 0.70000353, 0.70000353, 0.70000353,\n",
       "        0.70000353, 0.70000353, 0.70000353, 0.70000353, 0.70000353,\n",
       "        0.70000353, 0.70000353, 0.70000353, 0.70000353, 0.70000353,\n",
       "        0.70000353, 1.        , 1.        , 1.        , 1.        ]),\n",
       " array([1.        , 1.        , 1.        , 1.        , 1.        ,\n",
       "        1.        , 1.        , 1.        , 1.        , 1.        ,\n",
       "        1.        , 0.70000353, 0.70000353, 0.70000353, 0.70000353,\n",
       "        0.70000353, 0.70000353, 0.70000353, 0.70000353, 0.70000353,\n",
       "        0.70000353, 0.70000353, 0.70000353, 0.70000353, 0.70000353,\n",
       "        0.70000353, 0.70000353, 0.70000353, 0.70000353, 0.70000353,\n",
       "        0.70000353, 0.70000353, 0.70000353, 0.70000353, 0.70000353,\n",
       "        0.70000353, 0.70000353, 0.70000353, 0.70000353, 0.70000353,\n",
       "        0.70000353, 0.70000353, 0.70000353, 0.70000353, 0.70000353,\n",
       "        0.70000353, 1.        , 1.        , 1.        , 1.        ]),\n",
       " array([1.        , 1.        , 1.        , 1.        , 1.        ,\n",
       "        1.        , 1.        , 1.        , 1.        , 1.        ,\n",
       "        1.        , 0.70000353, 0.70000353, 0.70000353, 0.70000353,\n",
       "        0.70000353, 0.70000353, 0.70000353, 0.70000353, 0.70000353,\n",
       "        0.70000353, 0.70000353, 0.70000353, 0.70000353, 0.70000353,\n",
       "        0.70000353, 0.70000353, 0.70000353, 0.70000353, 0.70000353,\n",
       "        0.70000353, 0.70000353, 0.70000353, 0.70000353, 0.70000353,\n",
       "        0.70000353, 0.70000353, 0.70000353, 0.70000353, 0.70000353,\n",
       "        0.70000353, 0.70000353, 0.70000353, 0.70000353, 0.70000353,\n",
       "        0.70000353, 1.        , 1.        , 1.        , 1.        ]),\n",
       " array([1.        , 1.        , 1.        , 1.        , 1.        ,\n",
       "        1.        , 1.        , 1.        , 1.        , 1.        ,\n",
       "        1.        , 0.70000353, 0.70000353, 0.70000353, 0.70000353,\n",
       "        0.70000353, 0.70000353, 0.70000353, 0.70000353, 0.70000353,\n",
       "        0.70000353, 0.70000353, 0.70000353, 0.70000353, 0.70000353,\n",
       "        0.70000353, 0.70000353, 0.70000353, 0.70000353, 0.70000353,\n",
       "        0.70000353, 0.70000353, 0.70000353, 0.70000353, 0.70000353,\n",
       "        0.70000353, 0.70000353, 0.70000353, 0.70000353, 0.70000353,\n",
       "        0.70000353, 0.70000353, 0.70000353, 0.70000353, 0.70000353,\n",
       "        0.70000353, 1.        , 1.        , 1.        , 1.        ]),\n",
       " array([1.        , 1.        , 1.        , 1.        , 1.        ,\n",
       "        1.        , 1.        , 1.        , 1.        , 1.        ,\n",
       "        1.        , 0.70000353, 0.70000353, 0.70000353, 0.70000353,\n",
       "        0.70000353, 0.70000353, 0.70000353, 0.70000353, 0.70000353,\n",
       "        0.70000353, 0.70000353, 0.70000353, 0.70000353, 0.70000353,\n",
       "        0.70000353, 0.70000353, 0.70000353, 0.70000353, 0.70000353,\n",
       "        0.70000353, 0.70000353, 0.70000353, 0.70000353, 0.70000353,\n",
       "        0.70000353, 0.70000353, 0.70000353, 0.70000353, 0.70000353,\n",
       "        0.70000353, 0.70000353, 0.70000353, 0.70000353, 0.70000353,\n",
       "        0.70000353, 1.        , 1.        , 1.        , 1.        ]),\n",
       " array([1.        , 1.        , 1.        , 1.        , 1.        ,\n",
       "        1.        , 1.        , 1.        , 1.        , 1.        ,\n",
       "        1.        , 0.70000353, 0.70000353, 0.70000353, 0.70000353,\n",
       "        0.70000353, 0.70000353, 0.70000353, 0.70000353, 0.70000353,\n",
       "        0.70000353, 0.70000353, 0.70000353, 0.70000353, 0.70000353,\n",
       "        0.70000353, 0.70000353, 0.70000353, 0.70000353, 0.70000353,\n",
       "        0.70000353, 0.70000353, 0.70000353, 0.70000353, 0.70000353,\n",
       "        0.70000353, 0.70000353, 0.70000353, 0.70000353, 0.70000353,\n",
       "        0.70000353, 0.70000353, 0.70000353, 0.70000353, 0.70000353,\n",
       "        0.70000353, 1.        , 1.        , 1.        , 1.        ]),\n",
       " array([1.        , 1.        , 1.        , 1.        , 1.        ,\n",
       "        1.        , 1.        , 1.        , 1.        , 1.        ,\n",
       "        1.        , 0.70000353, 0.70000353, 0.70000353, 0.70000353,\n",
       "        0.70000353, 0.70000353, 0.70000353, 0.70000353, 0.70000353,\n",
       "        0.70000353, 0.70000353, 0.70000353, 0.70000353, 0.70000353,\n",
       "        0.70000353, 0.70000353, 0.70000353, 0.70000353, 0.70000353,\n",
       "        0.70000353, 0.70000353, 0.70000353, 0.70000353, 0.70000353,\n",
       "        0.70000353, 0.70000353, 0.70000353, 0.70000353, 0.70000353,\n",
       "        0.70000353, 0.70000353, 0.70000353, 0.70000353, 0.70000353,\n",
       "        0.70000353, 1.        , 1.        , 1.        , 1.        ]),\n",
       " array([1.        , 1.        , 1.        , 1.        , 1.        ,\n",
       "        1.        , 1.        , 1.        , 1.        , 1.        ,\n",
       "        1.        , 0.70000353, 0.70000353, 0.70000353, 0.70000353,\n",
       "        0.70000353, 0.70000353, 0.70000353, 0.70000353, 0.70000353,\n",
       "        0.70000353, 0.70000353, 0.70000353, 0.70000353, 0.70000353,\n",
       "        0.70000353, 0.70000353, 0.70000353, 0.70000353, 0.70000353,\n",
       "        0.70000353, 0.70000353, 0.70000353, 0.70000353, 0.70000353,\n",
       "        0.70000353, 0.70000353, 0.70000353, 0.70000353, 0.70000353,\n",
       "        0.70000353, 0.70000353, 0.70000353, 0.70000353, 0.70000353,\n",
       "        0.70000353, 1.        , 1.        , 1.        , 1.        ]),\n",
       " array([1.        , 1.        , 1.        , 1.        , 1.        ,\n",
       "        1.        , 1.        , 1.        , 1.        , 1.        ,\n",
       "        1.        , 0.70000353, 0.70000353, 0.70000353, 0.70000353,\n",
       "        0.70000353, 0.70000353, 0.70000353, 0.70000353, 0.70000353,\n",
       "        0.70000353, 0.70000353, 0.70000353, 0.70000353, 0.70000353,\n",
       "        0.70000353, 0.70000353, 0.70000353, 0.70000353, 0.70000353,\n",
       "        0.70000353, 0.70000353, 0.70000353, 0.70000353, 0.70000353,\n",
       "        0.70000353, 0.70000353, 0.70000353, 0.70000353, 0.70000353,\n",
       "        0.70000353, 0.70000353, 0.70000353, 0.70000353, 0.70000353,\n",
       "        0.70000353, 1.        , 1.        , 1.        , 1.        ]),\n",
       " array([1.        , 1.        , 1.        , 1.        , 1.        ,\n",
       "        1.        , 1.        , 1.        , 1.        , 1.        ,\n",
       "        1.        , 0.70000353, 0.70000353, 0.70000353, 0.70000353,\n",
       "        0.70000353, 0.70000353, 0.70000353, 0.70000353, 0.70000353,\n",
       "        0.70000353, 0.70000353, 0.70000353, 0.70000353, 0.70000353,\n",
       "        0.70000353, 0.70000353, 0.70000353, 0.70000353, 0.70000353,\n",
       "        0.70000353, 0.70000353, 0.70000353, 0.70000353, 0.70000353,\n",
       "        0.70000353, 0.70000353, 0.70000353, 0.70000353, 0.70000353,\n",
       "        0.70000353, 0.70000353, 0.70000353, 0.70000353, 0.70000353,\n",
       "        0.70000353, 1.        , 1.        , 1.        , 1.        ]),\n",
       " array([1.        , 1.        , 1.        , 1.        , 1.        ,\n",
       "        1.        , 1.        , 1.        , 1.        , 1.        ,\n",
       "        1.        , 0.70000353, 0.70000353, 0.70000353, 0.70000353,\n",
       "        0.70000353, 0.70000353, 0.70000353, 0.70000353, 0.70000353,\n",
       "        0.70000353, 0.70000353, 0.70000353, 0.70000353, 0.70000353,\n",
       "        0.70000353, 0.70000353, 0.70000353, 0.70000353, 0.70000353,\n",
       "        0.70000353, 0.70000353, 0.70000353, 0.70000353, 0.70000353,\n",
       "        0.70000353, 0.70000353, 0.70000353, 0.70000353, 0.70000353,\n",
       "        0.70000353, 0.70000353, 0.70000353, 0.70000353, 0.70000353,\n",
       "        0.70000353, 1.        , 1.        , 1.        , 1.        ]),\n",
       " array([1.        , 1.        , 1.        , 1.        , 1.        ,\n",
       "        1.        , 1.        , 1.        , 1.        , 1.        ,\n",
       "        1.        , 0.70000353, 0.70000353, 0.70000353, 0.70000353,\n",
       "        0.70000353, 0.70000353, 0.70000353, 0.70000353, 0.70000353,\n",
       "        0.70000353, 0.70000353, 0.70000353, 0.70000353, 0.70000353,\n",
       "        0.70000353, 0.70000353, 0.70000353, 0.70000353, 0.70000353,\n",
       "        0.70000353, 0.70000353, 0.70000353, 0.70000353, 0.70000353,\n",
       "        0.70000353, 0.70000353, 0.70000353, 0.70000353, 0.70000353,\n",
       "        0.70000353, 0.70000353, 0.70000353, 0.70000353, 0.70000353,\n",
       "        0.70000353, 1.        , 1.        , 1.        , 1.        ]),\n",
       " array([1.        , 1.        , 1.        , 1.        , 1.        ,\n",
       "        1.        , 1.        , 1.        , 1.        , 1.        ,\n",
       "        1.        , 0.70000353, 0.70000353, 0.70000353, 0.70000353,\n",
       "        0.70000353, 0.70000353, 0.70000353, 0.70000353, 0.70000353,\n",
       "        0.70000353, 0.70000353, 0.70000353, 0.70000353, 0.70000353,\n",
       "        0.70000353, 0.70000353, 0.70000353, 0.70000353, 0.70000353,\n",
       "        0.70000353, 0.70000353, 0.70000353, 0.70000353, 0.70000353,\n",
       "        0.70000353, 0.70000353, 0.70000353, 0.70000353, 0.70000353,\n",
       "        0.70000353, 0.70000353, 0.70000353, 0.70000353, 0.70000353,\n",
       "        0.70000353, 1.        , 1.        , 1.        , 1.        ]),\n",
       " array([1.        , 1.        , 1.        , 1.        , 1.        ,\n",
       "        1.        , 1.        , 1.        , 1.        , 1.        ,\n",
       "        1.        , 0.70000353, 0.70000353, 0.70000353, 0.70000353,\n",
       "        0.70000353, 0.70000353, 0.70000353, 0.70000353, 0.70000353,\n",
       "        0.70000353, 0.70000353, 0.70000353, 0.70000353, 0.70000353,\n",
       "        0.70000353, 0.70000353, 0.70000353, 0.70000353, 0.70000353,\n",
       "        0.70000353, 0.70000353, 0.70000353, 0.70000353, 0.70000353,\n",
       "        0.70000353, 0.70000353, 0.70000353, 0.70000353, 0.70000353,\n",
       "        0.70000353, 0.70000353, 0.70000353, 0.70000353, 0.70000353,\n",
       "        0.70000353, 1.        , 1.        , 1.        , 1.        ]),\n",
       " array([1.        , 1.        , 1.        , 1.        , 1.        ,\n",
       "        1.        , 1.        , 1.        , 1.        , 1.        ,\n",
       "        1.        , 0.70000353, 0.70000353, 0.70000353, 0.70000353,\n",
       "        0.70000353, 0.70000353, 0.70000353, 0.70000353, 0.70000353,\n",
       "        0.70000353, 0.70000353, 0.70000353, 0.70000353, 0.70000353,\n",
       "        0.70000353, 0.70000353, 0.70000353, 0.70000353, 0.70000353,\n",
       "        0.70000353, 0.70000353, 0.70000353, 0.70000353, 0.70000353,\n",
       "        0.70000353, 0.70000353, 0.70000353, 0.70000353, 0.70000353,\n",
       "        0.70000353, 0.70000353, 0.70000353, 0.70000353, 0.70000353,\n",
       "        0.70000353, 1.        , 1.        , 1.        , 1.        ]),\n",
       " array([1.        , 1.        , 1.        , 1.        , 1.        ,\n",
       "        1.        , 1.        , 1.        , 1.        , 1.        ,\n",
       "        1.        , 0.70000353, 0.70000353, 0.70000353, 0.70000353,\n",
       "        0.70000353, 0.70000353, 0.70000353, 0.70000353, 0.70000353,\n",
       "        0.70000353, 0.70000353, 0.70000353, 0.70000353, 0.70000353,\n",
       "        0.70000353, 0.70000353, 0.70000353, 0.70000353, 0.70000353,\n",
       "        0.70000353, 0.70000353, 0.70000353, 0.70000353, 0.70000353,\n",
       "        0.70000353, 0.70000353, 0.70000353, 0.70000353, 0.70000353,\n",
       "        0.70000353, 0.70000353, 0.70000353, 0.70000353, 0.70000353,\n",
       "        0.70000353, 1.        , 1.        , 1.        , 1.        ]),\n",
       " array([1.        , 1.        , 1.        , 1.        , 1.        ,\n",
       "        1.        , 1.        , 1.        , 1.        , 1.        ,\n",
       "        1.        , 0.70000353, 0.70000353, 0.70000353, 0.70000353,\n",
       "        0.70000353, 0.70000353, 0.70000353, 0.70000353, 0.70000353,\n",
       "        0.70000353, 0.70000353, 0.70000353, 0.70000353, 0.70000353,\n",
       "        0.70000353, 0.70000353, 0.70000353, 0.70000353, 0.70000353,\n",
       "        0.70000353, 0.70000353, 0.70000353, 0.70000353, 0.70000353,\n",
       "        0.70000353, 0.70000353, 0.70000353, 0.70000353, 0.70000353,\n",
       "        0.70000353, 0.70000353, 0.70000353, 0.70000353, 0.70000353,\n",
       "        0.70000353, 1.        , 1.        , 1.        , 1.        ]),\n",
       " array([1.        , 1.        , 1.        , 1.        , 1.        ,\n",
       "        1.        , 1.        , 1.        , 1.        , 1.        ,\n",
       "        1.        , 0.70000353, 0.70000353, 0.70000353, 0.70000353,\n",
       "        0.70000353, 0.70000353, 0.70000353, 0.70000353, 0.70000353,\n",
       "        0.70000353, 0.70000353, 0.70000353, 0.70000353, 0.70000353,\n",
       "        0.70000353, 0.70000353, 0.70000353, 0.70000353, 0.70000353,\n",
       "        0.70000353, 0.70000353, 0.70000353, 0.70000353, 0.70000353,\n",
       "        0.70000353, 0.70000353, 0.70000353, 0.70000353, 0.70000353,\n",
       "        0.70000353, 0.70000353, 0.70000353, 0.70000353, 0.70000353,\n",
       "        0.70000353, 1.        , 1.        , 1.        , 1.        ]),\n",
       " array([1.        , 1.        , 1.        , 1.        , 1.        ,\n",
       "        1.        , 1.        , 1.        , 1.        , 1.        ,\n",
       "        1.        , 0.70000353, 0.70000353, 0.70000353, 0.70000353,\n",
       "        0.70000353, 0.70000353, 0.70000353, 0.70000353, 0.70000353,\n",
       "        0.70000353, 0.70000353, 0.70000353, 0.70000353, 0.70000353,\n",
       "        0.70000353, 0.70000353, 0.70000353, 0.70000353, 0.70000353,\n",
       "        0.70000353, 0.70000353, 0.70000353, 0.70000353, 0.70000353,\n",
       "        0.70000353, 0.70000353, 0.70000353, 0.70000353, 0.70000353,\n",
       "        0.70000353, 0.70000353, 0.70000353, 0.70000353, 0.70000353,\n",
       "        0.70000353, 1.        , 1.        , 1.        , 1.        ]),\n",
       " array([1.        , 1.        , 1.        , 1.        , 1.        ,\n",
       "        1.        , 1.        , 1.        , 1.        , 1.        ,\n",
       "        1.        , 0.70000353, 0.70000353, 0.70000353, 0.70000353,\n",
       "        0.70000353, 0.70000353, 0.70000353, 0.70000353, 0.70000353,\n",
       "        0.70000353, 0.70000353, 0.70000353, 0.70000353, 0.70000353,\n",
       "        0.70000353, 0.70000353, 0.70000353, 0.70000353, 0.70000353,\n",
       "        0.70000353, 0.70000353, 0.70000353, 0.70000353, 0.70000353,\n",
       "        0.70000353, 0.70000353, 0.70000353, 0.70000353, 0.70000353,\n",
       "        0.70000353, 0.70000353, 0.70000353, 0.70000353, 0.70000353,\n",
       "        0.70000353, 1.        , 1.        , 1.        , 1.        ]),\n",
       " array([1.        , 1.        , 1.        , 1.        , 1.        ,\n",
       "        1.        , 1.        , 1.        , 1.        , 1.        ,\n",
       "        1.        , 0.70000353, 0.70000353, 0.70000353, 0.70000353,\n",
       "        0.70000353, 0.70000353, 0.70000353, 0.70000353, 0.70000353,\n",
       "        0.70000353, 0.70000353, 0.70000353, 0.70000353, 0.70000353,\n",
       "        0.70000353, 0.70000353, 0.70000353, 0.70000353, 0.70000353,\n",
       "        0.70000353, 0.70000353, 0.70000353, 0.70000353, 0.70000353,\n",
       "        0.70000353, 0.70000353, 0.70000353, 0.70000353, 0.70000353,\n",
       "        0.70000353, 0.70000353, 0.70000353, 0.70000353, 0.70000353,\n",
       "        0.70000353, 1.        , 1.        , 1.        , 1.        ]),\n",
       " array([1., 1., 1., 1., 1., 1., 1., 1., 1., 1., 1., 1., 1., 1., 1., 1., 1.,\n",
       "        1., 1., 1., 1., 1., 1., 1., 1., 1., 1., 1., 1., 1., 1., 1., 1., 1.,\n",
       "        1., 1., 1., 1., 1., 1., 1., 1., 1., 1., 1., 1., 1., 1., 1., 1.]),\n",
       " array([1., 1., 1., 1., 1., 1., 1., 1., 1., 1., 1., 1., 1., 1., 1., 1., 1.,\n",
       "        1., 1., 1., 1., 1., 1., 1., 1., 1., 1., 1., 1., 1., 1., 1., 1., 1.,\n",
       "        1., 1., 1., 1., 1., 1., 1., 1., 1., 1., 1., 1., 1., 1., 1., 1.]),\n",
       " array([1., 1., 1., 1., 1., 1., 1., 1., 1., 1., 1., 1., 1., 1., 1., 1., 1.,\n",
       "        1., 1., 1., 1., 1., 1., 1., 1., 1., 1., 1., 1., 1., 1., 1., 1., 1.,\n",
       "        1., 1., 1., 1., 1., 1., 1., 1., 1., 1., 1., 1., 1., 1., 1., 1.]),\n",
       " array([1., 1., 1., 1., 1., 1., 1., 1., 1., 1., 1., 1., 1., 1., 1., 1., 1.,\n",
       "        1., 1., 1., 1., 1., 1., 1., 1., 1., 1., 1., 1., 1., 1., 1., 1., 1.,\n",
       "        1., 1., 1., 1., 1., 1., 1., 1., 1., 1., 1., 1., 1., 1., 1., 1.]),\n",
       " array([1., 1., 1., 1., 1., 1., 1., 1., 1., 1., 1., 1., 1., 1., 1., 1., 1.,\n",
       "        1., 1., 1., 1., 1., 1., 1., 1., 1., 1., 1., 1., 1., 1., 1., 1., 1.,\n",
       "        1., 1., 1., 1., 1., 1., 1., 1., 1., 1., 1., 1., 1., 1., 1., 1.]),\n",
       " array([1., 1., 1., 1., 1., 1., 1., 1., 1., 1., 1., 1., 1., 1., 1., 1., 1.,\n",
       "        1., 1., 1., 1., 1., 1., 1., 1., 1., 1., 1., 1., 1., 1., 1., 1., 1.,\n",
       "        1., 1., 1., 1., 1., 1., 1., 1., 1., 1., 1., 1., 1., 1., 1., 1.]),\n",
       " array([1., 1., 1., 1., 1., 1., 1., 1., 1., 1., 1., 1., 1., 1., 1., 1., 1.,\n",
       "        1., 1., 1., 1., 1., 1., 1., 1., 1., 1., 1., 1., 1., 1., 1., 1., 1.,\n",
       "        1., 1., 1., 1., 1., 1., 1., 1., 1., 1., 1., 1., 1., 1., 1., 1.]),\n",
       " array([1., 1., 1., 1., 1., 1., 1., 1., 1., 1., 1., 1., 1., 1., 1., 1., 1.,\n",
       "        1., 1., 1., 1., 1., 1., 1., 1., 1., 1., 1., 1., 1., 1., 1., 1., 1.,\n",
       "        1., 1., 1., 1., 1., 1., 1., 1., 1., 1., 1., 1., 1., 1., 1., 1.]),\n",
       " array([1., 1., 1., 1., 1., 1., 1., 1., 1., 1., 1., 1., 1., 1., 1., 1., 1.,\n",
       "        1., 1., 1., 1., 1., 1., 1., 1., 1., 1., 1., 1., 1., 1., 1., 1., 1.,\n",
       "        1., 1., 1., 1., 1., 1., 1., 1., 1., 1., 1., 1., 1., 1., 1., 1.]),\n",
       " array([1., 1., 1., 1., 1., 1., 1., 1., 1., 1., 1., 1., 1., 1., 1., 1., 1.,\n",
       "        1., 1., 1., 1., 1., 1., 1., 1., 1., 1., 1., 1., 1., 1., 1., 1., 1.,\n",
       "        1., 1., 1., 1., 1., 1., 1., 1., 1., 1., 1., 1., 1., 1., 1., 1.]),\n",
       " array([1., 1., 1., 1., 1., 1., 1., 1., 1., 1., 1., 1., 1., 1., 1., 1., 1.,\n",
       "        1., 1., 1., 1., 1., 1., 1., 1., 1., 1., 1., 1., 1., 1., 1., 1., 1.,\n",
       "        1., 1., 1., 1., 1., 1., 1., 1., 1., 1., 1., 1., 1., 1., 1., 1.]),\n",
       " array([1., 1., 1., 1., 1., 1., 1., 1., 1., 1., 1., 1., 1., 1., 1., 1., 1.,\n",
       "        1., 1., 1., 1., 1., 1., 1., 1., 1., 1., 1., 1., 1., 1., 1., 1., 1.,\n",
       "        1., 1., 1., 1., 1., 1., 1., 1., 1., 1., 1., 1., 1., 1., 1., 1.])]"
      ]
     },
     "execution_count": 21,
     "metadata": {},
     "output_type": "execute_result"
    }
   ],
   "source": [
    "list(rect[0])"
   ]
  },
  {
   "cell_type": "code",
   "execution_count": 147,
   "metadata": {
    "collapsed": true
   },
   "outputs": [
    {
     "name": "stdout",
     "output_type": "stream",
     "text": [
      "\r",
      "300/1 [========================================================================================================================================================================================================================================================================================================================================================================================================================================================================================================================================================================================================================================================================================================================================================================================================================================================================================================================================================================================================================================================================================================================================================================================================================================================================================================================================================================================================================================================================================================================================================================================================================================================================================================================================================================================================================================================================================================================================================================================================================================================================================================================================================================================================================================================================================================================================================================================================================================================================================================================================================================================================================================================================================================================================================================================================================================================================================================================================================================================================================================================================================================================================================================================================================================================================================================================================================================================================================================================================================================================================================================================================================================================================================================================================================================================================================================================================================================================================================================================================================================================================================================================================================================================================================================================================================================================================================================================================================================================================================================================================================================================================================================================================================================================================================================================================================================================================================================================================================================================================================================================================================================================================================================================================================================================================================================================================================================================================================================================================================================================================================================================================================================================================================================================================================================================================================================================================================================================================================================================================================================================================================================================================================================================================================================================================================================================================================================================================================================================================================================================================================================================================================================================================================================================================================================================================================================================================================================================================================================================================================================================================================================================================================================================================================================================================================================================================================================================================================================================================================================================================================================================================================================================================================================================================================================================================================================================================================================================================================================================================================================================================================================================================================================================================================================================================================================================================================================================================================================================================================================================================================================================================================================================================================================================================================================================================================================================================================================================================================================================================================================================================================================================================================================================================================================================================================================================================================================] - 0s 446us/sample - loss: 0.5351 - accuracy: 0.9067\n"
     ]
    }
   ],
   "source": [
    "val = model.evaluate(X_test, y_test)"
   ]
  },
  {
   "cell_type": "code",
   "execution_count": 148,
   "metadata": {},
   "outputs": [
    {
     "data": {
      "text/plain": [
       "[0.27217630793650943, 0.9066667]"
      ]
     },
     "execution_count": 148,
     "metadata": {},
     "output_type": "execute_result"
    }
   ],
   "source": [
    "val"
   ]
  },
  {
   "cell_type": "code",
   "execution_count": 150,
   "metadata": {},
   "outputs": [
    {
     "data": {
      "text/plain": [
       "0.09090909090909091"
      ]
     },
     "execution_count": 150,
     "metadata": {},
     "output_type": "execute_result"
    }
   ],
   "source": [
    "300/3300"
   ]
  },
  {
   "cell_type": "code",
   "execution_count": 151,
   "metadata": {},
   "outputs": [],
   "source": [
    "## mridulsharma@dei.ac.in"
   ]
  },
  {
   "cell_type": "code",
   "execution_count": null,
   "metadata": {},
   "outputs": [],
   "source": []
  }
 ],
 "metadata": {
  "kernelspec": {
   "display_name": "Python 3",
   "language": "python",
   "name": "python3"
  },
  "language_info": {
   "codemirror_mode": {
    "name": "ipython",
    "version": 3
   },
   "file_extension": ".py",
   "mimetype": "text/x-python",
   "name": "python",
   "nbconvert_exporter": "python",
   "pygments_lexer": "ipython3",
   "version": "3.7.4"
  }
 },
 "nbformat": 4,
 "nbformat_minor": 2
}
