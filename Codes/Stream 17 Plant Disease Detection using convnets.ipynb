{
 "cells": [
  {
   "cell_type": "code",
   "execution_count": 2,
   "metadata": {},
   "outputs": [],
   "source": [
    "!firefox /home/mrikum7/Downloads/4613.full.pdf"
   ]
  },
  {
   "cell_type": "code",
   "execution_count": 59,
   "metadata": {},
   "outputs": [],
   "source": [
    "import numpy as np\n",
    "from tensorflow import keras\n",
    "import tensorflow as tf\n",
    "from PIL import Image\n",
    "import matplotlib.pyplot as plt\n",
    "import os\n",
    "from skimage.color import rgb2gray\n",
    "from keras.utils import to_categorical"
   ]
  },
  {
   "cell_type": "code",
   "execution_count": 17,
   "metadata": {},
   "outputs": [],
   "source": [
    "file = Image.open('../Datasets/xPLNET/DATASET/Training Samples/0/49445.png')"
   ]
  },
  {
   "cell_type": "code",
   "execution_count": 18,
   "metadata": {},
   "outputs": [
    {
     "data": {
      "text/plain": [
       "<matplotlib.image.AxesImage at 0x7f09875958d0>"
      ]
     },
     "execution_count": 18,
     "metadata": {},
     "output_type": "execute_result"
    },
    {
     "data": {
      "image/png": "[encoded data removed]",
      "text/plain": [
       "<Figure size 432x288 with 1 Axes>"
      ]
     },
     "metadata": {
      "needs_background": "light"
     },
     "output_type": "display_data"
    }
   ],
   "source": [
    "plt.imshow(rgb2gray(np.asarray(file)))"
   ]
  },
  {
   "cell_type": "code",
   "execution_count": 36,
   "metadata": {},
   "outputs": [],
   "source": [
    "eight = []\n",
    "for i, file in enumerate(os.listdir('../Datasets/xPLNET/DATASET/Training Samples/8')):\n",
    "    if i < 100:\n",
    "        data = Image.open('../Datasets/xPLNET/DATASET/Training Samples/8/' + file)\n",
    "        data = np.asarray(data)\n",
    "        eight.append(rgb2gray(data))"
   ]
  },
  {
   "cell_type": "code",
   "execution_count": 43,
   "metadata": {},
   "outputs": [],
   "source": [
    "eight = np.asarray(eight)"
   ]
  },
  {
   "cell_type": "code",
   "execution_count": 28,
   "metadata": {},
   "outputs": [
    {
     "data": {
      "text/plain": [
       "(100, 64, 64)"
      ]
     },
     "execution_count": 28,
     "metadata": {},
     "output_type": "execute_result"
    }
   ],
   "source": [
    "one.shape"
   ]
  },
  {
   "cell_type": "code",
   "execution_count": 24,
   "metadata": {},
   "outputs": [],
   "source": [
    "x_train = []"
   ]
  },
  {
   "cell_type": "code",
   "execution_count": 50,
   "metadata": {},
   "outputs": [],
   "source": [
    "x_train.append(eight)"
   ]
  },
  {
   "cell_type": "code",
   "execution_count": 52,
   "metadata": {},
   "outputs": [],
   "source": [
    "data = np.asarray(x_train)"
   ]
  },
  {
   "cell_type": "code",
   "execution_count": 57,
   "metadata": {},
   "outputs": [],
   "source": [
    "x_train = data.reshape((900, 64, 64, 1))"
   ]
  },
  {
   "cell_type": "code",
   "execution_count": 77,
   "metadata": {},
   "outputs": [
    {
     "data": {
      "text/plain": [
       "array([[[0.09972078],\n",
       "        [0.09943804],\n",
       "        [0.10252627],\n",
       "        ...,\n",
       "        [0.09974353],\n",
       "        [0.09777137],\n",
       "        [0.09608196]],\n",
       "\n",
       "       [[0.10364235],\n",
       "        [0.10478118],\n",
       "        [0.10561451],\n",
       "        ...,\n",
       "        [0.09496588],\n",
       "        [0.1014102 ],\n",
       "        [0.09468314]],\n",
       "\n",
       "       [[0.11737922],\n",
       "        [0.10589725],\n",
       "        [0.10953608],\n",
       "        ...,\n",
       "        [0.09860471],\n",
       "        [0.10057686],\n",
       "        [0.09748863]],\n",
       "\n",
       "       ...,\n",
       "\n",
       "       [[0.10870275],\n",
       "        [0.10057686],\n",
       "        [0.1014102 ],\n",
       "        ...,\n",
       "        [0.10169294],\n",
       "        [0.09833686],\n",
       "        [0.10085961]],\n",
       "\n",
       "       [[0.10870275],\n",
       "        [0.10449843],\n",
       "        [0.09551647],\n",
       "        ...,\n",
       "        [0.10309176],\n",
       "        [0.10309176],\n",
       "        [0.09833686]],\n",
       "\n",
       "       [[0.10644784],\n",
       "        [0.10169294],\n",
       "        [0.09832196],\n",
       "        ...,\n",
       "        [0.10197569],\n",
       "        [0.10644784],\n",
       "        [0.09888745]]])"
      ]
     },
     "execution_count": 77,
     "metadata": {},
     "output_type": "execute_result"
    }
   ],
   "source": [
    "x_train[0]"
   ]
  },
  {
   "cell_type": "code",
   "execution_count": 60,
   "metadata": {},
   "outputs": [],
   "source": [
    "y = [0 for i in range(100)]"
   ]
  },
  {
   "cell_type": "code",
   "execution_count": 68,
   "metadata": {},
   "outputs": [],
   "source": [
    "y.extend([8 for i in range(100)])"
   ]
  },
  {
   "cell_type": "code",
   "execution_count": 71,
   "metadata": {},
   "outputs": [],
   "source": [
    "y = to_categorical(y)"
   ]
  },
  {
   "cell_type": "code",
   "execution_count": 74,
   "metadata": {},
   "outputs": [],
   "source": [
    "y_train = y"
   ]
  },
  {
   "cell_type": "code",
   "execution_count": 90,
   "metadata": {},
   "outputs": [],
   "source": [
    "model = keras.Sequential()"
   ]
  },
  {
   "cell_type": "code",
   "execution_count": 91,
   "metadata": {},
   "outputs": [],
   "source": [
    "model.add(keras.layers.Conv2D(64, (3, 3), activation = 'relu',\n",
    "                              input_shape = (64, 64, 1)))"
   ]
  },
  {
   "cell_type": "code",
   "execution_count": 92,
   "metadata": {},
   "outputs": [],
   "source": [
    "model.add(keras.layers.MaxPool2D((2, 2)))"
   ]
  },
  {
   "cell_type": "code",
   "execution_count": 93,
   "metadata": {},
   "outputs": [],
   "source": [
    "model.add(keras.layers.Conv2D(64, (3, 3), activation = 'relu'))"
   ]
  },
  {
   "cell_type": "code",
   "execution_count": 94,
   "metadata": {},
   "outputs": [],
   "source": [
    "model.add(keras.layers.MaxPool2D((2, 2)))"
   ]
  },
  {
   "cell_type": "code",
   "execution_count": 95,
   "metadata": {},
   "outputs": [],
   "source": [
    "model.add(keras.layers.Conv2D(64, (3, 3), activation = 'relu'))"
   ]
  },
  {
   "cell_type": "code",
   "execution_count": 96,
   "metadata": {},
   "outputs": [],
   "source": [
    "model.add(keras.layers.MaxPool2D((2, 2)))"
   ]
  },
  {
   "cell_type": "code",
   "execution_count": 97,
   "metadata": {},
   "outputs": [],
   "source": [
    "model.add(keras.layers.Conv2D(64, (3, 3), activation = 'relu'))"
   ]
  },
  {
   "cell_type": "code",
   "execution_count": 98,
   "metadata": {},
   "outputs": [],
   "source": [
    "model.add(keras.layers.Flatten())"
   ]
  },
  {
   "cell_type": "code",
   "execution_count": 99,
   "metadata": {},
   "outputs": [],
   "source": [
    "model.add(keras.layers.Dense(500, activation = 'relu'))"
   ]
  },
  {
   "cell_type": "code",
   "execution_count": 100,
   "metadata": {},
   "outputs": [],
   "source": [
    "model.add(keras.layers.Dense(100, activation = 'relu'))"
   ]
  },
  {
   "cell_type": "code",
   "execution_count": 101,
   "metadata": {},
   "outputs": [],
   "source": [
    "model.add(keras.layers.Dense(9, activation = 'softmax'))"
   ]
  },
  {
   "cell_type": "code",
   "execution_count": 102,
   "metadata": {},
   "outputs": [
    {
     "name": "stdout",
     "output_type": "stream",
     "text": [
      "Model: \"sequential_1\"\n",
      "_________________________________________________________________\n",
      "Layer (type)                 Output Shape              Param #   \n",
      "=================================================================\n",
      "conv2d_4 (Conv2D)            (None, 62, 62, 64)        640       \n",
      "_________________________________________________________________\n",
      "max_pooling2d_3 (MaxPooling2 (None, 31, 31, 64)        0         \n",
      "_________________________________________________________________\n",
      "conv2d_5 (Conv2D)            (None, 29, 29, 64)        36928     \n",
      "_________________________________________________________________\n",
      "max_pooling2d_4 (MaxPooling2 (None, 14, 14, 64)        0         \n",
      "_________________________________________________________________\n",
      "conv2d_6 (Conv2D)            (None, 12, 12, 64)        36928     \n",
      "_________________________________________________________________\n",
      "max_pooling2d_5 (MaxPooling2 (None, 6, 6, 64)          0         \n",
      "_________________________________________________________________\n",
      "conv2d_7 (Conv2D)            (None, 4, 4, 64)          36928     \n",
      "_________________________________________________________________\n",
      "flatten (Flatten)            (None, 1024)              0         \n",
      "_________________________________________________________________\n",
      "dense_3 (Dense)              (None, 500)               512500    \n",
      "_________________________________________________________________\n",
      "dense_4 (Dense)              (None, 100)               50100     \n",
      "_________________________________________________________________\n",
      "dense_5 (Dense)              (None, 9)                 909       \n",
      "=================================================================\n",
      "Total params: 674,933\n",
      "Trainable params: 674,933\n",
      "Non-trainable params: 0\n",
      "_________________________________________________________________\n"
     ]
    }
   ],
   "source": [
    "model.summary()"
   ]
  },
  {
   "cell_type": "code",
   "execution_count": 103,
   "metadata": {},
   "outputs": [],
   "source": [
    "model.compile(optimizer = 'Adam', loss = 'categorical_crossentropy',\n",
    "              metrics = ['accuracy'])"
   ]
  },
  {
   "cell_type": "code",
   "execution_count": 104,
   "metadata": {},
   "outputs": [
    {
     "name": "stdout",
     "output_type": "stream",
     "text": [
      "Train on 900 samples\n",
      "Epoch 1/50\n",
      "900/900 [==============================] - 8s 8ms/sample - loss: 2.1972 - accuracy: 0.1078\n",
      "Epoch 2/50\n",
      "900/900 [==============================] - 1s 1ms/sample - loss: 2.1770 - accuracy: 0.1367\n",
      "Epoch 3/50\n",
      "900/900 [==============================] - 1s 1ms/sample - loss: 2.1129 - accuracy: 0.1689\n",
      "Epoch 4/50\n",
      "900/900 [==============================] - 1s 1ms/sample - loss: 2.0807 - accuracy: 0.2167\n",
      "Epoch 5/50\n",
      "900/900 [==============================] - 1s 1ms/sample - loss: 2.0355 - accuracy: 0.2089\n",
      "Epoch 6/50\n",
      "900/900 [==============================] - 1s 2ms/sample - loss: 1.9614 - accuracy: 0.2511\n",
      "Epoch 7/50\n",
      "900/900 [==============================] - 2s 2ms/sample - loss: 1.9502 - accuracy: 0.2556\n",
      "Epoch 8/50\n",
      "900/900 [==============================] - 2s 2ms/sample - loss: 2.0027 - accuracy: 0.2433\n",
      "Epoch 9/50\n",
      "900/900 [==============================] - 2s 2ms/sample - loss: 1.8851 - accuracy: 0.2833\n",
      "Epoch 10/50\n",
      "900/900 [==============================] - 2s 2ms/sample - loss: 1.8256 - accuracy: 0.3289\n",
      "Epoch 11/50\n",
      "900/900 [==============================] - 2s 2ms/sample - loss: 1.8965 - accuracy: 0.2811\n",
      "Epoch 12/50\n",
      "900/900 [==============================] - 2s 2ms/sample - loss: 1.7360 - accuracy: 0.3522\n",
      "Epoch 13/50\n",
      "900/900 [==============================] - 2s 2ms/sample - loss: 1.7483 - accuracy: 0.3611\n",
      "Epoch 14/50\n",
      "900/900 [==============================] - 2s 2ms/sample - loss: 1.7179 - accuracy: 0.3733\n",
      "Epoch 15/50\n",
      "900/900 [==============================] - 2s 2ms/sample - loss: 1.6957 - accuracy: 0.3611\n",
      "Epoch 16/50\n",
      "900/900 [==============================] - 2s 2ms/sample - loss: 1.6743 - accuracy: 0.3833\n",
      "Epoch 17/50\n",
      "900/900 [==============================] - 2s 2ms/sample - loss: 1.5648 - accuracy: 0.4289\n",
      "Epoch 18/50\n",
      "900/900 [==============================] - 2s 2ms/sample - loss: 1.6200 - accuracy: 0.4178\n",
      "Epoch 19/50\n",
      "900/900 [==============================] - 2s 2ms/sample - loss: 1.5028 - accuracy: 0.4500\n",
      "Epoch 20/50\n",
      "900/900 [==============================] - 2s 2ms/sample - loss: 1.4736 - accuracy: 0.4656\n",
      "Epoch 21/50\n",
      "900/900 [==============================] - 2s 3ms/sample - loss: 1.4042 - accuracy: 0.4978\n",
      "Epoch 22/50\n",
      "900/900 [==============================] - 2s 3ms/sample - loss: 1.4713 - accuracy: 0.4622\n",
      "Epoch 23/50\n",
      "900/900 [==============================] - 2s 2ms/sample - loss: 1.3643 - accuracy: 0.5122\n",
      "Epoch 24/50\n",
      "900/900 [==============================] - 2s 2ms/sample - loss: 1.2908 - accuracy: 0.5200\n",
      "Epoch 25/50\n",
      "900/900 [==============================] - 2s 2ms/sample - loss: 1.2266 - accuracy: 0.5578\n",
      "Epoch 26/50\n",
      "900/900 [==============================] - 2s 2ms/sample - loss: 1.1167 - accuracy: 0.5967\n",
      "Epoch 27/50\n",
      "900/900 [==============================] - 2s 2ms/sample - loss: 1.1553 - accuracy: 0.5878\n",
      "Epoch 28/50\n",
      "900/900 [==============================] - 2s 2ms/sample - loss: 1.0708 - accuracy: 0.6100\n",
      "Epoch 29/50\n",
      "900/900 [==============================] - 2s 2ms/sample - loss: 0.9866 - accuracy: 0.6556\n",
      "Epoch 30/50\n",
      "900/900 [==============================] - 2s 2ms/sample - loss: 0.9812 - accuracy: 0.6444\n",
      "Epoch 31/50\n",
      "900/900 [==============================] - 2s 2ms/sample - loss: 0.9018 - accuracy: 0.6933\n",
      "Epoch 32/50\n",
      "900/900 [==============================] - 2s 2ms/sample - loss: 0.9081 - accuracy: 0.6689\n",
      "Epoch 33/50\n",
      "900/900 [==============================] - 2s 2ms/sample - loss: 0.8105 - accuracy: 0.7178\n",
      "Epoch 34/50\n",
      "900/900 [==============================] - 2s 3ms/sample - loss: 0.8497 - accuracy: 0.6867\n",
      "Epoch 35/50\n",
      "900/900 [==============================] - 2s 2ms/sample - loss: 0.6423 - accuracy: 0.7711\n",
      "Epoch 36/50\n",
      "900/900 [==============================] - 2s 2ms/sample - loss: 0.4932 - accuracy: 0.8456\n",
      "Epoch 37/50\n",
      "900/900 [==============================] - 2s 2ms/sample - loss: 0.7256 - accuracy: 0.7344\n",
      "Epoch 38/50\n",
      "900/900 [==============================] - 2s 2ms/sample - loss: 0.5313 - accuracy: 0.8111\n",
      "Epoch 39/50\n",
      "900/900 [==============================] - 2s 2ms/sample - loss: 0.4126 - accuracy: 0.8689\n",
      "Epoch 40/50\n",
      "900/900 [==============================] - 2s 2ms/sample - loss: 0.2864 - accuracy: 0.9044\n",
      "Epoch 41/50\n",
      "900/900 [==============================] - 2s 2ms/sample - loss: 0.2509 - accuracy: 0.9267\n",
      "Epoch 42/50\n",
      "900/900 [==============================] - 2s 2ms/sample - loss: 0.2619 - accuracy: 0.9078\n",
      "Epoch 43/50\n",
      "900/900 [==============================] - 2s 2ms/sample - loss: 0.3556 - accuracy: 0.8733\n",
      "Epoch 44/50\n",
      "900/900 [==============================] - 2s 2ms/sample - loss: 0.2149 - accuracy: 0.9400\n",
      "Epoch 45/50\n",
      "900/900 [==============================] - 2s 2ms/sample - loss: 0.1219 - accuracy: 0.9756\n",
      "Epoch 46/50\n",
      "900/900 [==============================] - 2s 2ms/sample - loss: 0.0756 - accuracy: 0.9844\n",
      "Epoch 47/50\n",
      "900/900 [==============================] - 2s 2ms/sample - loss: 0.0433 - accuracy: 0.9978\n",
      "Epoch 48/50\n",
      "900/900 [==============================] - 2s 2ms/sample - loss: 0.0319 - accuracy: 1.0000\n",
      "Epoch 49/50\n",
      "900/900 [==============================] - 2s 2ms/sample - loss: 0.0234 - accuracy: 0.9989\n",
      "Epoch 50/50\n",
      "900/900 [==============================] - 2s 2ms/sample - loss: 0.0161 - accuracy: 0.9989\n"
     ]
    },
    {
     "data": {
      "text/plain": [
       "<tensorflow.python.keras.callbacks.History at 0x7f09701be810>"
      ]
     },
     "execution_count": 104,
     "metadata": {},
     "output_type": "execute_result"
    }
   ],
   "source": [
    "model.fit(x_train, y_train, epochs = 50, batch_size = 64)"
   ]
  },
  {
   "cell_type": "code",
   "execution_count": null,
   "metadata": {},
   "outputs": [],
   "source": []
  }
 ],
 "metadata": {
  "kernelspec": {
   "display_name": "Python 3",
   "language": "python",
   "name": "python3"
  },
  "language_info": {
   "codemirror_mode": {
    "name": "ipython",
    "version": 3
   },
   "file_extension": ".py",
   "mimetype": "text/x-python",
   "name": "python",
   "nbconvert_exporter": "python",
   "pygments_lexer": "ipython3",
   "version": "3.7.4"
  }
 },
 "nbformat": 4,
 "nbformat_minor": 2
}
